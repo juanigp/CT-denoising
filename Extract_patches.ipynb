{
 "cells": [
  {
   "cell_type": "code",
   "execution_count": 1,
   "metadata": {},
   "outputs": [],
   "source": [
    "\"\"\"\n",
    "Created on Wed Oct 17 20:52:28 2018\n",
    "\n",
    "@author: felix\n",
    "\"\"\"\n",
    "#import os\n",
    "#from modules import CNN\n",
    "from utils import patches\n",
    "import argparse\n",
    "import shutil\n",
    "import torch\n",
    "\n"
   ]
  },
  {
   "cell_type": "code",
   "execution_count": 2,
   "metadata": {},
   "outputs": [
    {
     "name": "stderr",
     "output_type": "stream",
     "text": [
      "                                                                               \r"
     ]
    }
   ],
   "source": [
    "PATH_VOL = r'C:\\Users\\Juanig\\Desktop\\juan\\data\\volumes'\n",
    "PATH_PATCH = r'C:\\Users\\Juanig\\Desktop\\juan\\data\\patches'\n",
    "\n",
    "patches._make_patches(folders_slices = ['XCT','calib','calib_ms'],\n",
    "                 path_vol= PATH_VOL, path_patches = PATH_PATCH)"
   ]
  }
 ],
 "metadata": {
  "kernelspec": {
   "display_name": "Python 3",
   "language": "python",
   "name": "python3"
  },
  "language_info": {
   "codemirror_mode": {
    "name": "ipython",
    "version": 3
   },
   "file_extension": ".py",
   "mimetype": "text/x-python",
   "name": "python",
   "nbconvert_exporter": "python",
   "pygments_lexer": "ipython3",
   "version": "3.6.6"
  }
 },
 "nbformat": 4,
 "nbformat_minor": 2
}
