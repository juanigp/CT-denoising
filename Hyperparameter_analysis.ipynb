{
  "nbformat": 4,
  "nbformat_minor": 0,
  "metadata": {
    "colab": {
      "name": "Hyperparameter analysis.ipynb",
      "provenance": [],
      "collapsed_sections": [],
      "include_colab_link": true
    },
    "kernelspec": {
      "name": "python3",
      "display_name": "Python 3"
    }
  },
  "cells": [
    {
      "cell_type": "markdown",
      "metadata": {
        "id": "view-in-github",
        "colab_type": "text"
      },
      "source": [
        "<a href=\"https://colab.research.google.com/github/juanigp/CT-denoising/blob/master/Hyperparameter_analysis.ipynb\" target=\"_parent\"><img src=\"https://colab.research.google.com/assets/colab-badge.svg\" alt=\"Open In Colab\"/></a>"
      ]
    },
    {
      "cell_type": "code",
      "metadata": {
        "id": "c4ujGJohLkhX",
        "colab_type": "code",
        "colab": {
          "base_uri": "https://localhost:8080/",
          "height": 201
        },
        "outputId": "5d79f1dc-7adf-4964-f2b7-af1fdd56f0d6"
      },
      "source": [
        "!git clone -l -s git://github.com/juanigp/CT-denoising.git cloned-repo\n",
        "%cd cloned-repo\n",
        "from google.colab import drive\n",
        "drive.mount('/gdrive', force_remount = True)\n",
        "\n",
        "#import os\n",
        "#from IPython.core.debugger import set_trace\n",
        "#from models.EDCNN import EDCNN\n",
        "#from utils import utils\n",
        "#import torch\n",
        "#import torch.nn as nn\n",
        "#import torch.utils.data.sampler as sampler\n",
        "#from torch.autograd import Variable\n",
        "from matplotlib import pyplot as plt\n",
        "#import random\n",
        "import numpy as np\n",
        "import pickle"
      ],
      "execution_count": 3,
      "outputs": [
        {
          "output_type": "stream",
          "text": [
            "Cloning into 'cloned-repo'...\n",
            "warning: --local is ignored\n",
            "remote: Enumerating objects: 226, done.\u001b[K\n",
            "remote: Counting objects:   0% (1/226)\u001b[K\rremote: Counting objects:   1% (3/226)\u001b[K\rremote: Counting objects:   2% (5/226)\u001b[K\rremote: Counting objects:   3% (7/226)\u001b[K\rremote: Counting objects:   4% (10/226)\u001b[K\rremote: Counting objects:   5% (12/226)\u001b[K\rremote: Counting objects:   6% (14/226)\u001b[K\rremote: Counting objects:   7% (16/226)\u001b[K\rremote: Counting objects:   8% (19/226)\u001b[K\rremote: Counting objects:   9% (21/226)\u001b[K\rremote: Counting objects:  10% (23/226)\u001b[K\rremote: Counting objects:  11% (25/226)\u001b[K\rremote: Counting objects:  12% (28/226)\u001b[K\rremote: Counting objects:  13% (30/226)\u001b[K\rremote: Counting objects:  14% (32/226)\u001b[K\rremote: Counting objects:  15% (34/226)\u001b[K\rremote: Counting objects:  16% (37/226)\u001b[K\rremote: Counting objects:  17% (39/226)\u001b[K\rremote: Counting objects:  18% (41/226)\u001b[K\rremote: Counting objects:  19% (43/226)\u001b[K\rremote: Counting objects:  20% (46/226)\u001b[K\rremote: Counting objects:  21% (48/226)\u001b[K\rremote: Counting objects:  22% (50/226)\u001b[K\rremote: Counting objects:  23% (52/226)\u001b[K\rremote: Counting objects:  24% (55/226)\u001b[K\rremote: Counting objects:  25% (57/226)\u001b[K\rremote: Counting objects:  26% (59/226)\u001b[K\rremote: Counting objects:  27% (62/226)\u001b[K\rremote: Counting objects:  28% (64/226)\u001b[K\rremote: Counting objects:  29% (66/226)\u001b[K\rremote: Counting objects:  30% (68/226)\u001b[K\rremote: Counting objects:  31% (71/226)\u001b[K\rremote: Counting objects:  32% (73/226)\u001b[K\rremote: Counting objects:  33% (75/226)\u001b[K\rremote: Counting objects:  34% (77/226)\u001b[K\rremote: Counting objects:  35% (80/226)\u001b[K\rremote: Counting objects:  36% (82/226)\u001b[K\rremote: Counting objects:  37% (84/226)\u001b[K\rremote: Counting objects:  38% (86/226)\u001b[K\rremote: Counting objects:  39% (89/226)\u001b[K\rremote: Counting objects:  40% (91/226)\u001b[K\rremote: Counting objects:  41% (93/226)\u001b[K\rremote: Counting objects:  42% (95/226)\u001b[K\rremote: Counting objects:  43% (98/226)\u001b[K\rremote: Counting objects:  44% (100/226)\u001b[K\rremote: Counting objects:  45% (102/226)\u001b[K\rremote: Counting objects:  46% (104/226)\u001b[K\rremote: Counting objects:  47% (107/226)\u001b[K\rremote: Counting objects:  48% (109/226)\u001b[K\rremote: Counting objects:  49% (111/226)\u001b[K\rremote: Counting objects:  50% (113/226)\u001b[K\rremote: Counting objects:  51% (116/226)\u001b[K\rremote: Counting objects:  52% (118/226)\u001b[K\rremote: Counting objects:  53% (120/226)\u001b[K\rremote: Counting objects:  54% (123/226)\u001b[K\rremote: Counting objects:  55% (125/226)\u001b[K\rremote: Counting objects:  56% (127/226)\u001b[K\rremote: Counting objects:  57% (129/226)\u001b[K\rremote: Counting objects:  58% (132/226)\u001b[K\rremote: Counting objects:  59% (134/226)\u001b[K\rremote: Counting objects:  60% (136/226)\u001b[K\rremote: Counting objects:  61% (138/226)\u001b[K\rremote: Counting objects:  62% (141/226)\u001b[K\rremote: Counting objects:  63% (143/226)\u001b[K\rremote: Counting objects:  64% (145/226)\u001b[K\rremote: Counting objects:  65% (147/226)\u001b[K\rremote: Counting objects:  66% (150/226)\u001b[K\rremote: Counting objects:  67% (152/226)\u001b[K\rremote: Counting objects:  68% (154/226)\u001b[K\rremote: Counting objects:  69% (156/226)\u001b[K\rremote: Counting objects:  70% (159/226)\u001b[K\rremote: Counting objects:  71% (161/226)\u001b[K\rremote: Counting objects:  72% (163/226)\u001b[K\rremote: Counting objects:  73% (165/226)\u001b[K\rremote: Counting objects:  74% (168/226)\u001b[K\rremote: Counting objects:  75% (170/226)\u001b[K\rremote: Counting objects:  76% (172/226)\u001b[K\rremote: Counting objects:  77% (175/226)\u001b[K\rremote: Counting objects:  78% (177/226)\u001b[K\rremote: Counting objects:  79% (179/226)\u001b[K\rremote: Counting objects:  80% (181/226)\u001b[K\rremote: Counting objects:  81% (184/226)\u001b[K\rremote: Counting objects:  82% (186/226)\u001b[K\rremote: Counting objects:  83% (188/226)\u001b[K\rremote: Counting objects:  84% (190/226)\u001b[K\rremote: Counting objects:  85% (193/226)\u001b[K\rremote: Counting objects:  86% (195/226)\u001b[K\rremote: Counting objects:  87% (197/226)\u001b[K\rremote: Counting objects:  88% (199/226)\u001b[K\rremote: Counting objects:  89% (202/226)\u001b[K\rremote: Counting objects:  90% (204/226)\u001b[K\rremote: Counting objects:  91% (206/226)\u001b[K\rremote: Counting objects:  92% (208/226)\u001b[K\rremote: Counting objects:  93% (211/226)\u001b[K\rremote: Counting objects:  94% (213/226)\u001b[K\rremote: Counting objects:  95% (215/226)\u001b[K\rremote: Counting objects:  96% (217/226)\u001b[K\rremote: Counting objects:  97% (220/226)\u001b[K\rremote: Counting objects:  98% (222/226)\u001b[K\rremote: Counting objects:  99% (224/226)\u001b[K\rremote: Counting objects: 100% (226/226)\u001b[K\rremote: Counting objects: 100% (226/226), done.\u001b[K\n",
            "remote: Compressing objects: 100% (179/179), done.\u001b[K\n",
            "remote: Total 226 (delta 111), reused 125 (delta 42), pack-reused 0\u001b[K\n",
            "Receiving objects: 100% (226/226), 39.73 MiB | 24.38 MiB/s, done.\n",
            "Resolving deltas: 100% (111/111), done.\n",
            "/content/cloned-repo/cloned-repo\n",
            "Mounted at /gdrive\n"
          ],
          "name": "stdout"
        }
      ]
    },
    {
      "cell_type": "code",
      "metadata": {
        "id": "9w_U1oMeLxDy",
        "colab_type": "code",
        "colab": {
          "base_uri": "https://localhost:8080/",
          "height": 283
        },
        "outputId": "40441f1c-aa9a-4609-96f7-526be53316c6"
      },
      "source": [
        "filename = r'/gdrive/My Drive/patches/hyperparams_analysis_2.txt'\n",
        "with open(filename, \"rb\") as fp:   # Unpickling\n",
        "  b = pickle.load(fp)\n",
        "plt.plot(b[0][11][0])\n"
      ],
      "execution_count": 23,
      "outputs": [
        {
          "output_type": "execute_result",
          "data": {
            "text/plain": [
              "[<matplotlib.lines.Line2D at 0x7f4acdaeedd8>]"
            ]
          },
          "metadata": {
            "tags": []
          },
          "execution_count": 23
        },
        {
          "output_type": "display_data",
          "data": {
            "image/png": "[encoded data removed]",
            "text/plain": [
              "<Figure size 432x288 with 1 Axes>"
            ]
          },
          "metadata": {
            "tags": []
          }
        }
      ]
    },
    {
      "cell_type": "code",
      "metadata": {
        "id": "gVhT1phrOzu8",
        "colab_type": "code",
        "colab": {
          "base_uri": "https://localhost:8080/",
          "height": 54
        },
        "outputId": "cbfb62f4-fe8b-48cf-f878-490c9b695ed2"
      },
      "source": [
        ""
      ],
      "execution_count": 49,
      "outputs": [
        {
          "output_type": "execute_result",
          "data": {
            "text/plain": [
              "array([1.e-03, 1.e-03, 1.e-03, 1.e-03, 1.e-04, 1.e-04, 1.e-04, 1.e-04,\n",
              "       1.e-05, 1.e-05, 1.e-05, 1.e-05])"
            ]
          },
          "metadata": {
            "tags": []
          },
          "execution_count": 49
        }
      ]
    }
  ]
}