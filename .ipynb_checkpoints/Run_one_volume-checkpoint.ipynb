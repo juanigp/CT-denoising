{
 "cells": [
  {
   "cell_type": "code",
   "execution_count": 16,
   "metadata": {},
   "outputs": [],
   "source": [
    "import os\n",
    "from IPython.core.debugger import set_trace\n",
    "from models.Mini_REDCNN import REDCNN\n",
    "from utils import utils\n",
    "import torch\n",
    "import torch.nn as nn\n",
    "import torch.utils.data.sampler as sampler\n",
    "from torch.autograd import Variable\n",
    "from matplotlib import pyplot as plt\n",
    "import numpy as np\n",
    "import SimpleITK as sitk\n",
    "import ReadWriteXML as rw"
   ]
  },
  {
   "cell_type": "code",
   "execution_count": 3,
   "metadata": {},
   "outputs": [],
   "source": [
    "lr_dir = r'C:\\Users\\Juanig\\Desktop\\Codigo\\ct images\\Low resolution'"
   ]
  },
  {
   "cell_type": "code",
   "execution_count": 11,
   "metadata": {},
   "outputs": [
    {
     "data": {
      "text/plain": [
       "REDCNN(\n",
       "  (enc_1): Sequential(\n",
       "    (0): Conv3d(1, 32, kernel_size=(3, 5, 5), stride=(1, 1, 1))\n",
       "    (1): ReLU()\n",
       "  )\n",
       "  (enc_2): Sequential(\n",
       "    (0): Conv3d(32, 32, kernel_size=(3, 5, 5), stride=(1, 1, 1))\n",
       "    (1): ReLU()\n",
       "  )\n",
       "  (enc_3): Sequential(\n",
       "    (0): Conv3d(32, 32, kernel_size=(3, 5, 5), stride=(1, 1, 1))\n",
       "    (1): ReLU()\n",
       "  )\n",
       "  (enc_4): Sequential(\n",
       "    (0): Conv3d(32, 32, kernel_size=(3, 5, 5), stride=(1, 1, 1))\n",
       "    (1): ReLU()\n",
       "  )\n",
       "  (dec_1_deconv): ConvTranspose3d(32, 32, kernel_size=(3, 5, 5), stride=(1, 1, 1))\n",
       "  (dec_1_ReLU): ReLU()\n",
       "  (dec_2_deconv): ConvTranspose3d(32, 32, kernel_size=(3, 5, 5), stride=(1, 1, 1))\n",
       "  (dec_2_ReLU): ReLU()\n",
       "  (dec_3_deconv): ConvTranspose3d(32, 32, kernel_size=(3, 5, 5), stride=(1, 1, 1))\n",
       "  (dec_3_ReLU): ReLU()\n",
       "  (dec_4_deconv): ConvTranspose3d(32, 1, kernel_size=(3, 5, 5), stride=(1, 1, 1))\n",
       ")"
      ]
     },
     "execution_count": 11,
     "metadata": {},
     "output_type": "execute_result"
    }
   ],
   "source": [
    "net_dir = r'C:\\Users\\Juanig\\Desktop\\Codigo\\ct images\\3d_autoencoder_epoch_15.pkl'\n",
    "model = REDCNN()\n",
    "\n",
    "if torch.cuda.is_available():\n",
    "    model.load_state_dict(torch.load(net_dir))\n",
    "    model.cuda()\n",
    "else:\n",
    "    #torch.cuda.set_device('cpu')\n",
    "    model.load_state_dict(torch.load(net_dir,map_location=lambda storage, location: storage))\n",
    "\n",
    "model.double()\n",
    "model.eval()"
   ]
  },
  {
   "cell_type": "code",
   "execution_count": 18,
   "metadata": {},
   "outputs": [],
   "source": [
    "patch_size = (23, 47, 47)\n",
    "stride = (20, 10, 10)\n",
    "input_volume_ = rw.OpenXML(os.path.join(lr_dir, '5a_100_FBPPhil_Scan1Slices.xml'), kind = 'Slices' )\n",
    "input_volume = sitk.GetArrayFromImage(input_volume_)\n",
    "\n",
    "output_volume = np.zeros(input_volume.shape)\n",
    "mask = np.ones(input_volume.shape)\n",
    "\n",
    "patch = np.zeros(patch_size) \n",
    "\n",
    "patch[:,:,:] = input_volume[0:patch_size[0], 0:patch_size[1], 0:patch_size[2]]\n",
    "\n",
    "lo_res_ = torch.from_numpy(patch)\n",
    "lo_res_ = lo_res_.unsqueeze(0)\n",
    "lo_res_ = lo_res_.unsqueeze(1)\n",
    "lo_res_ = utils.var_or_cuda( lo_res_ )\n",
    "net_output = model(lo_res_)     \n",
    "#casteo a tensor\n",
    "#output_patch = smth\n",
    "#output_patch = patch\n",
    "output_patch = net_output\n",
    "output_cpu_ = output_patch.detach()\n",
    "output_cpu_ = output_cpu_.cpu()\n",
    "output_cpu = output_cpu_[0][0][:][:][:]\n",
    "output_volume[0:patch_size[0], 0:patch_size[1], 0:patch_size[2]] = output_cpu"
   ]
  },
  {
   "cell_type": "code",
   "execution_count": 19,
   "metadata": {},
   "outputs": [
    {
     "data": {
      "image/png": "[encoded data removed]",
      "text/plain": [
       "<Figure size 432x288 with 2 Axes>"
      ]
     },
     "metadata": {},
     "output_type": "display_data"
    }
   ],
   "source": [
    "slc = 10\n",
    "fig = plt.figure()\n",
    "a = fig.add_subplot(1, 2, 1)\n",
    "imgplot = plt.imshow(patch[slc][:][:])\n",
    "a = fig.add_subplot(1, 2, 2)\n",
    "imgplot = plt.imshow(output_cpu[slc][:][:])"
   ]
  },
  {
   "cell_type": "code",
   "execution_count": null,
   "metadata": {},
   "outputs": [],
   "source": [
    "patch_size = (23, 47, 47)\n",
    "stride = (20, 10, 10)\n",
    "input_volume_ = rw.OpenXML(os.path.join(lr_dir, '5a_100_FBPPhil_Scan1Slices.xml'), kind = 'Slices' )\n",
    "input_volume = sitk.GetArrayFromImage(input_volume_)\n",
    "\n",
    "output_volume = np.zeros(input_volume.shape)\n",
    "mask = np.ones(input_volume.shape)\n",
    "\n",
    "for i,j,k in next_index(patch_size, stride):\n",
    "    patch = np.zeros(patch_size) \n",
    "    i_max = min(i, nparray.shape[0] - 1)\n",
    "    j_max = min(j, nparray.shape[1] - 1)\n",
    "    k_max = min(k, nparray.shape[2] - 1)\n",
    "    patch[:,:,:] = input_volume[i:i_max, j:j_max, k:k_max]\n",
    "    \n",
    "    lo_res_ = torch.from_numpy(patch)\n",
    "    lo_res_ = lo_res_.unsqueeze(0)\n",
    "    lo_res_ = lo_res_.unsqueeze(1)\n",
    "    lo_res_ = utils.var_or_cuda( lo_res_ )\n",
    "    net_output = model(lo_res_)     \n",
    "    #casteo a tensor\n",
    "    #output_patch = smth\n",
    "    #output_patch = patch\n",
    "    output_patch = net_output\n",
    "    output_cpu_ = output_patch.detach()\n",
    "    output_cpu_ = output_cpu_.cpu()\n",
    "    output_cpu = output_cpu_[0][0][:][:][:]\n",
    "    output_volume[i:i_max, j:j_max, k:k_max] += output_cpu\n",
    "    mask[i:i_max, j:j_max, k:k_max] += np.ones(patch_size)\n",
    "    \n",
    "output_volume = output_volume / mask"
   ]
  },
  {
   "cell_type": "code",
   "execution_count": 22,
   "metadata": {},
   "outputs": [
    {
     "data": {
      "text/plain": [
       "array([[[0.5, 0.5, 0.5],\n",
       "        [0.5, 0.5, 0.5],\n",
       "        [0.5, 0.5, 0.5]],\n",
       "\n",
       "       [[0.5, 0.5, 0.5],\n",
       "        [0.5, 0.5, 0.5],\n",
       "        [0.5, 0.5, 0.5]],\n",
       "\n",
       "       [[0.5, 0.5, 0.5],\n",
       "        [0.5, 0.5, 0.5],\n",
       "        [0.5, 0.5, 0.5]]])"
      ]
     },
     "execution_count": 22,
     "metadata": {},
     "output_type": "execute_result"
    }
   ],
   "source": [
    "a1 = np.ones((3,3,3)) * 2\n",
    "b1 = np.ones((3,3,3)) * 4\n",
    "a1/b1"
   ]
  }
 ],
 "metadata": {
  "kernelspec": {
   "display_name": "Python 3",
   "language": "python",
   "name": "python3"
  },
  "language_info": {
   "codemirror_mode": {
    "name": "ipython",
    "version": 3
   },
   "file_extension": ".py",
   "mimetype": "text/x-python",
   "name": "python",
   "nbconvert_exporter": "python",
   "pygments_lexer": "ipython3",
   "version": "3.6.6"
  }
 },
 "nbformat": 4,
 "nbformat_minor": 2
}
