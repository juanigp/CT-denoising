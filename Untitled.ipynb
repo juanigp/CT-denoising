{
 "cells": [
  {
   "cell_type": "code",
   "execution_count": 24,
   "metadata": {},
   "outputs": [],
   "source": [
    "import numpy as np"
   ]
  },
  {
   "cell_type": "code",
   "execution_count": 3,
   "metadata": {},
   "outputs": [],
   "source": [
    "def generateSquare(n): \n",
    "  \n",
    "    # 2-D array with all  \n",
    "    # slots set to 0 \n",
    "    magicSquare = [[0 for x in range(n)] \n",
    "                      for y in range(n)] \n",
    "  \n",
    "    # initialize position of 1 \n",
    "    i = n / 2\n",
    "    j = n - 1\n",
    "      \n",
    "    # Fill the magic square \n",
    "    # by placing values \n",
    "    num = 1\n",
    "    while num <= (n * n): \n",
    "        if i == -1 and j == n: # 3rd condition \n",
    "            j = n - 2\n",
    "            i = 0\n",
    "        else: \n",
    "              \n",
    "            # next number goes out of \n",
    "            # right side of square  \n",
    "            if j == n: \n",
    "                j = 0\n",
    "                  \n",
    "            # next number goes  \n",
    "            # out of upper side \n",
    "            if i < 0: \n",
    "                i = n - 1\n",
    "                  \n",
    "        if magicSquare[int(i)][int(j)]: # 2nd condition \n",
    "            j = j - 2\n",
    "            i = i + 1\n",
    "            continue\n",
    "        else: \n",
    "            magicSquare[int(i)][int(j)] = num \n",
    "            num = num + 1\n",
    "                  \n",
    "        j = j + 1\n",
    "        i = i - 1 # 1st condition \n",
    "    return magicSquare"
   ]
  },
  {
   "cell_type": "code",
   "execution_count": null,
   "metadata": {},
   "outputs": [],
   "source": [
    "def next_index(vol, stride):\n",
    "    vol_x, vol_y, vol_z = vol[0], vol[1], vol[2]\n",
    "    s_x, s_y, s_z = stride[0], stride[1], stride[2]\n",
    "    x = 0\n",
    "    y = 0\n",
    "    z = 0\n",
    "    while z < vol_z:\n",
    "        yield x,y,z        \n",
    "        y = 0 if (y + s_y > vol_y) else y + s_y \n",
    "        x = (0 if (x + s_x > vol_x) else x + s_x) if y == 0 else x\n",
    "        z = z + s_z if (x == 0) and (y == 0) else z\n",
    "\n",
    "for i,j,k in next_index((5,5,5), (2,2,2)):\n",
    "    print('{},{},{}' \n",
    "        .format(i, j, k))"
   ]
  },
  {
   "cell_type": "code",
   "execution_count": null,
   "metadata": {},
   "outputs": [],
   "source": [
    "patch_size = (23, 47, 47)\n",
    "stride = (20, 10, 10)\n",
    "#input volume\n",
    "\n",
    "output_volume = np.zeros(input_volume.shape)\n",
    "mask = np.ones(input_volume.shape)\n",
    "\n",
    "\n",
    "\n",
    "for i,j,k in next_index(patch_size, stride):\n",
    "    patch = np.zeros(patch_size) \n",
    "    i_max = min(i, nparray.shape[0] - 1)\n",
    "    j_max = min(j, nparray.shape[1] - 1)\n",
    "    k_max = min(k, nparray.shape[2] - 1)\n",
    "    patch[:,:,:] = input_volume[i:i_max, j:j_max, k:k_max]\n",
    "    #casteo a tensor\n",
    "    #output_patch = smth\n",
    "    output_patch = patch\n",
    "    output_volume[i:i_max, j:j_max, k:k_max] = output_patch"
   ]
  },
  {
   "cell_type": "code",
   "execution_count": 72,
   "metadata": {},
   "outputs": [
    {
     "ename": "SyntaxError",
     "evalue": "invalid syntax (<ipython-input-72-69864702b479>, line 3)",
     "output_type": "error",
     "traceback": [
      "\u001b[1;36m  File \u001b[1;32m\"<ipython-input-72-69864702b479>\"\u001b[1;36m, line \u001b[1;32m3\u001b[0m\n\u001b[1;33m    i = (1:10)\u001b[0m\n\u001b[1;37m          ^\u001b[0m\n\u001b[1;31mSyntaxError\u001b[0m\u001b[1;31m:\u001b[0m invalid syntax\n"
     ]
    }
   ],
   "source": [
    "a = generateSquare(5)\n",
    "b = np.array(a)\n",
    "i = (1:10)"
   ]
  },
  {
   "cell_type": "code",
   "execution_count": 74,
   "metadata": {},
   "outputs": [
    {
     "name": "stdout",
     "output_type": "stream",
     "text": [
      "[[[1. 1. 1. ... 1. 1. 1.]\n",
      "  [1. 1. 1. ... 1. 1. 1.]\n",
      "  [1. 1. 1. ... 1. 1. 1.]\n",
      "  ...\n",
      "  [1. 1. 1. ... 1. 1. 1.]\n",
      "  [1. 1. 1. ... 1. 1. 1.]\n",
      "  [1. 1. 1. ... 1. 1. 1.]]\n",
      "\n",
      " [[1. 1. 1. ... 1. 1. 1.]\n",
      "  [1. 1. 1. ... 1. 1. 1.]\n",
      "  [1. 1. 1. ... 1. 1. 1.]\n",
      "  ...\n",
      "  [1. 1. 1. ... 1. 1. 1.]\n",
      "  [1. 1. 1. ... 1. 1. 1.]\n",
      "  [1. 1. 1. ... 1. 1. 1.]]\n",
      "\n",
      " [[1. 1. 1. ... 1. 1. 1.]\n",
      "  [1. 1. 1. ... 1. 1. 1.]\n",
      "  [1. 1. 1. ... 1. 1. 1.]\n",
      "  ...\n",
      "  [1. 1. 1. ... 1. 1. 1.]\n",
      "  [1. 1. 1. ... 1. 1. 1.]\n",
      "  [1. 1. 1. ... 1. 1. 1.]]\n",
      "\n",
      " ...\n",
      "\n",
      " [[1. 1. 1. ... 1. 1. 1.]\n",
      "  [1. 1. 1. ... 1. 1. 1.]\n",
      "  [1. 1. 1. ... 1. 1. 1.]\n",
      "  ...\n",
      "  [1. 1. 1. ... 1. 1. 1.]\n",
      "  [1. 1. 1. ... 1. 1. 1.]\n",
      "  [1. 1. 1. ... 1. 1. 1.]]\n",
      "\n",
      " [[1. 1. 1. ... 1. 1. 1.]\n",
      "  [1. 1. 1. ... 1. 1. 1.]\n",
      "  [1. 1. 1. ... 1. 1. 1.]\n",
      "  ...\n",
      "  [1. 1. 1. ... 1. 1. 1.]\n",
      "  [1. 1. 1. ... 1. 1. 1.]\n",
      "  [1. 1. 1. ... 1. 1. 1.]]\n",
      "\n",
      " [[1. 1. 1. ... 1. 1. 1.]\n",
      "  [1. 1. 1. ... 1. 1. 1.]\n",
      "  [1. 1. 1. ... 1. 1. 1.]\n",
      "  ...\n",
      "  [1. 1. 1. ... 1. 1. 1.]\n",
      "  [1. 1. 1. ... 1. 1. 1.]\n",
      "  [1. 1. 1. ... 1. 1. 1.]]]\n"
     ]
    }
   ],
   "source": [
    "patch_size = (23, 47, 47)\n",
    "stride = (20, 10, 10)\n",
    "input_volume = np.ones((127,200,200))\n",
    "patch = np.zeros(patch_size)\n",
    "i,j,k = 0,0,0\n",
    "i_max, j_max, k_max = patch_size[0], patch_size[1], patch_size[2]\n",
    "patch[:,:,:] = input_volume[i:i_max, j:j_max, k:k_max]\n",
    "\n",
    "print(patch)"
   ]
  },
  {
   "cell_type": "code",
   "execution_count": 53,
   "metadata": {},
   "outputs": [
    {
     "name": "stdout",
     "output_type": "stream",
     "text": [
      "0\n",
      "0\n",
      "0\n",
      "2\n",
      "0\n",
      "4\n",
      "2\n",
      "0\n",
      "2\n",
      "2\n",
      "4\n",
      "4\n",
      "4\n",
      "0\n",
      "4\n",
      "2\n",
      "6\n",
      "4\n",
      "6\n",
      "0\n",
      "8\n",
      "2\n",
      "8\n",
      "4\n",
      "8\n",
      "0\n",
      "10\n",
      "2\n",
      "10\n",
      "4\n",
      "12\n",
      "0\n"
     ]
    }
   ],
   "source": [
    "for i,j in next_index():\n",
    "    print(i)\n",
    "    print(j)\n",
    "    if i > 10:\n",
    "        break\n",
    "\n",
    "#b[0:2, 0:2]"
   ]
  }
 ],
 "metadata": {
  "kernelspec": {
   "display_name": "Python 3",
   "language": "python",
   "name": "python3"
  },
  "language_info": {
   "codemirror_mode": {
    "name": "ipython",
    "version": 3
   },
   "file_extension": ".py",
   "mimetype": "text/x-python",
   "name": "python",
   "nbconvert_exporter": "python",
   "pygments_lexer": "ipython3",
   "version": "3.6.6"
  }
 },
 "nbformat": 4,
 "nbformat_minor": 2
}
