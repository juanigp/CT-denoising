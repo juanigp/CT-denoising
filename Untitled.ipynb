{
 "cells": [
  {
   "cell_type": "code",
   "execution_count": null,
   "metadata": {},
   "outputs": [],
   "source": [
    "import os\n",
    "from IPython.core.debugger import set_trace\n",
    "from models.Mini_REDCNN import REDCNN\n",
    "from utils import utils\n",
    "import torch\n",
    "import torch.nn as nn\n",
    "import torch.utils.data.sampler as sampler\n",
    "from torch.autograd import Variable\n",
    "from matplotlib import pyplot as plt\n",
    "import random\n",
    "from numpy import log10"
   ]
  },
  {
   "cell_type": "code",
   "execution_count": null,
   "metadata": {},
   "outputs": [],
   "source": [
    "#dataset\n",
    "csv_file = r'C:\\Users\\Juan Pisula\\Desktop\\ct_images\\para probar el procesamiento de los volumenes\\100_FBPPhil_500FBP.csv'\n",
    "csv_file = r'C:\\Users\\Juan Pisula\\Desktop\\ct_images\\patches\\100_FBPPhil_500FBP.csv'\n",
    "dataset = utils.CTVolumesDataset(csv_file)\n",
    "\n",
    "#split of data in training data and validation data\n",
    "num_samples = len(dataset)\n",
    "training_samples_percentage = 0.8\n",
    "split_index = int( num_samples * training_samples_percentage )\n",
    "total_idx = list(range(num_samples))\n",
    "random.seed(10)\n",
    "random.shuffle(total_idx)\n",
    "training_idx = total_idx[0 : split_index]\n",
    "validation_idx = total_idx[split_index : num_samples]\n",
    "training_sampler = sampler.SubsetRandomSampler(training_idx)\n",
    "validation_sampler = sampler.SubsetRandomSampler(validation_idx)\n",
    "\n",
    "#dataloader\n",
    "batch_size = 16\n",
    "dataloader = torch.utils.data.DataLoader(dataset=dataset, batch_size = batch_size, sampler = validation_sampler)"
   ]
  },
  {
   "cell_type": "code",
   "execution_count": null,
   "metadata": {},
   "outputs": [],
   "source": [
    "net_dir = r'C:\\Users\\Juan Pisula\\Desktop\\ct_images\\3d_autoencoder_epoch_15.pkl'\n",
    "model = REDCNN()\n",
    "model.load_state_dict(torch.load(net_dir))\n",
    "model.double()\n",
    "if torch.cuda.is_available():\n",
    "    model.cuda()\n",
    "model.eval()"
   ]
  },
  {
   "cell_type": "code",
   "execution_count": null,
   "metadata": {},
   "outputs": [],
   "source": [
    "batches = list(dataloader)"
   ]
  },
  {
   "cell_type": "code",
   "execution_count": null,
   "metadata": {},
   "outputs": [],
   "source": [
    "dataset[0]"
   ]
  },
  {
   "cell_type": "code",
   "execution_count": null,
   "metadata": {},
   "outputs": [],
   "source": [
    "batch_idx = 0\n",
    "vol_idx = 5\n",
    "slc = 10\n",
    "\n",
    "batch = batches[batch_idx]\n",
    "lo_res = batch[0][vol_idx]\n",
    "target = batch[1][vol_idx]\n",
    "\n",
    "fig = plt.figure()\n",
    "a = fig.add_subplot(1, 2, 1)\n",
    "imgplot = plt.imshow(lo_res[slc][:][:])\n",
    "a = fig.add_subplot(1, 2, 2)\n",
    "imgplot = plt.imshow(target[slc][:][:])"
   ]
  },
  {
   "cell_type": "code",
   "execution_count": null,
   "metadata": {},
   "outputs": [],
   "source": [
    "#lo_res_ = utils.var_or_cuda( lo_res.unsqueeze(1) )\n",
    "#net_output = model(lo_res_)\n",
    "\n",
    "\n",
    "for i, (lo_res, hi_res) in enumerate(dataloader):\n",
    "        #add an extra dimension:\n",
    "        lo_res = utils.var_or_cuda( lo_res.unsqueeze(1) )\n",
    "        hi_res = utils.var_or_cuda(hi_res)\n",
    "        if lo_res.size()[0] != batch_size:\n",
    "            print(\"batch_size != {} drop last incompatible batch\".format( batch_size ))\n",
    "            continue\n",
    "            \n",
    "        #forward pass \n",
    "        outputs = model(lo_res)\n",
    "        loss = criterion(outputs, hi_res.unsqueeze(1))\n",
    "        #backward & optimize\n",
    "        optimizer.zero_grad()\n",
    "        loss.backward()\n",
    "        optimizer.step()"
   ]
  },
  {
   "cell_type": "code",
   "execution_count": null,
   "metadata": {},
   "outputs": [],
   "source": [
    "fig = plt.figure()\n",
    "a = fig.add_subplot(1, 3, 1)\n",
    "imgplot = plt.imshow(lo_res[slc][:][:])\n",
    "a = fig.add_subplot(1, 3, 2)\n",
    "imgplot = plt.imshow(net_output[slc][:][:])\n",
    "a = fig.add_subplot(1, 3, 3)\n",
    "imgplot = plt.imshow(target[slc][:][:])"
   ]
  }
 ],
 "metadata": {
  "kernelspec": {
   "display_name": "Python 3",
   "language": "python",
   "name": "python3"
  },
  "language_info": {
   "codemirror_mode": {
    "name": "ipython",
    "version": 3
   },
   "file_extension": ".py",
   "mimetype": "text/x-python",
   "name": "python",
   "nbconvert_exporter": "python",
   "pygments_lexer": "ipython3",
   "version": "3.7.4"
  }
 },
 "nbformat": 4,
 "nbformat_minor": 2
}
