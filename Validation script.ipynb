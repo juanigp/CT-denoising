{
  "nbformat": 4,
  "nbformat_minor": 0,
  "metadata": {
    "kernelspec": {
      "name": "python3",
      "display_name": "Python 3"
    },
    "language_info": {
      "codemirror_mode": {
        "name": "ipython",
        "version": 3
      },
      "file_extension": ".py",
      "mimetype": "text/x-python",
      "name": "python",
      "nbconvert_exporter": "python",
      "pygments_lexer": "ipython3",
      "version": "3.7.4"
    },
    "colab": {
      "name": "Validation script.ipynb",
      "provenance": []
    },
    "accelerator": "GPU"
  },
  "cells": [
    {
      "cell_type": "markdown",
      "metadata": {
        "id": "YIth1W4lkKkY",
        "colab_type": "text"
      },
      "source": [
        "# Tuning of hyperparameters\n",
        "#### Script to train the model multiple times using different values for batch size and learning rate. The training is done using a small subset of the total training dataset and the results are validated against a different subset."
      ]
    },
    {
      "cell_type": "code",
      "metadata": {
        "colab_type": "code",
        "outputId": "7b8223f8-1670-44b4-e3c8-235f7cd79dc7",
        "id": "G9if_8ekya5a",
        "colab": {
          "base_uri": "https://localhost:8080/",
          "height": 294
        }
      },
      "source": [
        "!git clone -l -s git://github.com/juanigp/CT-denoising.git cloned-repo\n",
        "%cd cloned-repo\n",
        "from google.colab import drive\n",
        "drive.mount('/gdrive', force_remount = True)\n",
        "\n",
        "import os\n",
        "from IPython.core.debugger import set_trace\n",
        "from models.EDCNN import EDCNN\n",
        "from utils import utils\n",
        "import torch\n",
        "import torch.nn as nn\n",
        "import torch.utils.data.sampler as sampler\n",
        "from torch.autograd import Variable\n",
        "from matplotlib import pyplot as plt\n",
        "import random\n",
        "import numpy as np"
      ],
      "execution_count": 1,
      "outputs": [
        {
          "output_type": "stream",
          "text": [
            "Cloning into 'cloned-repo'...\n",
            "warning: --local is ignored\n",
            "remote: Enumerating objects: 217, done.\u001b[K\n",
            "remote: Counting objects:   0% (1/217)\u001b[K\rremote: Counting objects:   1% (3/217)\u001b[K\rremote: Counting objects:   2% (5/217)\u001b[K\rremote: Counting objects:   3% (7/217)\u001b[K\rremote: Counting objects:   4% (9/217)\u001b[K\rremote: Counting objects:   5% (11/217)\u001b[K\rremote: Counting objects:   6% (14/217)\u001b[K\rremote: Counting objects:   7% (16/217)\u001b[K\rremote: Counting objects:   8% (18/217)\u001b[K\rremote: Counting objects:   9% (20/217)\u001b[K\rremote: Counting objects:  10% (22/217)\u001b[K\rremote: Counting objects:  11% (24/217)\u001b[K\rremote: Counting objects:  12% (27/217)\u001b[K\rremote: Counting objects:  13% (29/217)\u001b[K\rremote: Counting objects:  14% (31/217)\u001b[K\rremote: Counting objects:  15% (33/217)\u001b[K\rremote: Counting objects:  16% (35/217)\u001b[K\rremote: Counting objects:  17% (37/217)\u001b[K\rremote: Counting objects:  18% (40/217)\u001b[K\rremote: Counting objects:  19% (42/217)\u001b[K\rremote: Counting objects:  20% (44/217)\u001b[K\rremote: Counting objects:  21% (46/217)\u001b[K\rremote: Counting objects:  22% (48/217)\u001b[K\rremote: Counting objects:  23% (50/217)\u001b[K\rremote: Counting objects:  24% (53/217)\u001b[K\rremote: Counting objects:  25% (55/217)\u001b[K\rremote: Counting objects:  26% (57/217)\u001b[K\rremote: Counting objects:  27% (59/217)\u001b[K\rremote: Counting objects:  28% (61/217)\u001b[K\rremote: Counting objects:  29% (63/217)\u001b[K\rremote: Counting objects:  30% (66/217)\u001b[K\rremote: Counting objects:  31% (68/217)\u001b[K\rremote: Counting objects:  32% (70/217)\u001b[K\rremote: Counting objects:  33% (72/217)\u001b[K\rremote: Counting objects:  34% (74/217)\u001b[K\rremote: Counting objects:  35% (76/217)\u001b[K\rremote: Counting objects:  36% (79/217)\u001b[K\rremote: Counting objects:  37% (81/217)\u001b[K\rremote: Counting objects:  38% (83/217)\u001b[K\rremote: Counting objects:  39% (85/217)\u001b[K\rremote: Counting objects:  40% (87/217)\u001b[K\rremote: Counting objects:  41% (89/217)\u001b[K\rremote: Counting objects:  42% (92/217)\u001b[K\rremote: Counting objects:  43% (94/217)\u001b[K\rremote: Counting objects:  44% (96/217)\u001b[K\rremote: Counting objects:  45% (98/217)\u001b[K\rremote: Counting objects:  46% (100/217)\u001b[K\rremote: Counting objects:  47% (102/217)\u001b[K\rremote: Counting objects:  48% (105/217)\u001b[K\rremote: Counting objects:  49% (107/217)\u001b[K\rremote: Counting objects:  50% (109/217)\u001b[K\rremote: Counting objects:  51% (111/217)\u001b[K\rremote: Counting objects:  52% (113/217)\u001b[K\rremote: Counting objects:  53% (116/217)\u001b[K\rremote: Counting objects:  54% (118/217)\u001b[K\rremote: Counting objects:  55% (120/217)\u001b[K\rremote: Counting objects:  56% (122/217)\u001b[K\rremote: Counting objects:  57% (124/217)\u001b[K\rremote: Counting objects:  58% (126/217)\u001b[K\rremote: Counting objects:  59% (129/217)\u001b[K\rremote: Counting objects:  60% (131/217)\u001b[K\rremote: Counting objects:  61% (133/217)\u001b[K\rremote: Counting objects:  62% (135/217)\u001b[K\rremote: Counting objects:  63% (137/217)\u001b[K\rremote: Counting objects:  64% (139/217)\u001b[K\rremote: Counting objects:  65% (142/217)\u001b[K\rremote: Counting objects:  66% (144/217)\u001b[K\rremote: Counting objects:  67% (146/217)\u001b[K\rremote: Counting objects:  68% (148/217)\u001b[K\rremote: Counting objects:  69% (150/217)\u001b[K\rremote: Counting objects:  70% (152/217)\u001b[K\rremote: Counting objects:  71% (155/217)\u001b[K\rremote: Counting objects:  72% (157/217)\u001b[K\rremote: Counting objects:  73% (159/217)\u001b[K\rremote: Counting objects:  74% (161/217)\u001b[K\rremote: Counting objects:  75% (163/217)\u001b[K\rremote: Counting objects:  76% (165/217)\u001b[K\rremote: Counting objects:  77% (168/217)\u001b[K\rremote: Counting objects:  78% (170/217)\u001b[K\rremote: Counting objects:  79% (172/217)\u001b[K\rremote: Counting objects:  80% (174/217)\u001b[K\rremote: Counting objects:  81% (176/217)\u001b[K\rremote: Counting objects:  82% (178/217)\u001b[K\rremote: Counting objects:  83% (181/217)\u001b[K\rremote: Counting objects:  84% (183/217)\u001b[K\rremote: Counting objects:  85% (185/217)\u001b[K\rremote: Counting objects:  86% (187/217)\u001b[K\rremote: Counting objects:  87% (189/217)\u001b[K\rremote: Counting objects:  88% (191/217)\u001b[K\rremote: Counting objects:  89% (194/217)\u001b[K\rremote: Counting objects:  90% (196/217)\u001b[K\rremote: Counting objects:  91% (198/217)\u001b[K\rremote: Counting objects:  92% (200/217)\u001b[K\rremote: Counting objects:  93% (202/217)\u001b[K\rremote: Counting objects:  94% (204/217)\u001b[K\rremote: Counting objects:  95% (207/217)\u001b[K\rremote: Counting objects:  96% (209/217)\u001b[K\rremote: Counting objects:  97% (211/217)\u001b[K\rremote: Counting objects:  98% (213/217)\u001b[K\rremote: Counting objects:  99% (215/217)\u001b[K\rremote: Counting objects: 100% (217/217)\u001b[K\rremote: Counting objects: 100% (217/217), done.\u001b[K\n",
            "remote: Compressing objects: 100% (170/170), done.\u001b[K\n",
            "remote: Total 217 (delta 107), reused 125 (delta 42), pack-reused 0\u001b[K\n",
            "Receiving objects: 100% (217/217), 39.70 MiB | 24.71 MiB/s, done.\n",
            "Resolving deltas: 100% (107/107), done.\n",
            "/content/cloned-repo\n",
            "Go to this URL in a browser: https://accounts.google.com/o/oauth2/auth?client_id=947318989803-6bn6qk8qdgf4n4g3pfee6491hc0brc4i.apps.googleusercontent.com&redirect_uri=urn%3Aietf%3Awg%3Aoauth%3A2.0%3Aoob&scope=email%20https%3A%2F%2Fwww.googleapis.com%2Fauth%2Fdocs.test%20https%3A%2F%2Fwww.googleapis.com%2Fauth%2Fdrive%20https%3A%2F%2Fwww.googleapis.com%2Fauth%2Fdrive.photos.readonly%20https%3A%2F%2Fwww.googleapis.com%2Fauth%2Fpeopleapi.readonly&response_type=code\n",
            "\n",
            "Enter your authorization code:\n",
            "··········\n",
            "Mounted at /gdrive\n"
          ],
          "name": "stdout"
        }
      ]
    },
    {
      "cell_type": "code",
      "metadata": {
        "id": "npSXcEpVfCJf",
        "colab_type": "code",
        "colab": {
          "base_uri": "https://localhost:8080/",
          "height": 472
        },
        "outputId": "c4496154-6644-4ff7-95d0-60738402f01e"
      },
      "source": [
        "#csv file containing the directories of the lo res and ground truth patches\n",
        "csv_file = r'/gdrive/My Drive/patches/1.csv' \n",
        "dataset = utils.CTVolumesDataset(csv_file)\n",
        "\n",
        "#split of data in training, validation and testing data:\n",
        "#the .csv is shuffled (using the same seed everytime for repeatability)\n",
        "num_samples = len(dataset)\n",
        "total_idx = list(range(num_samples))\n",
        "random.seed(10)\n",
        "random.shuffle(total_idx)\n",
        "\n",
        "#pick 10% of samples to test\n",
        "testing_samples_percentage = 0.1\n",
        "split_index = int( num_samples * testing_samples_percentage )\n",
        "#pick the first 10% of samples in the shuffled dataset for testing\n",
        "testing_idx = total_idx[0 : split_index]\n",
        "#pick the other 90% of samples in the shuffled dataset for training\n",
        "training_idx = total_idx[split_index : num_samples]\n",
        "#pick the first 10% of samples used for training. These are the samples that are going to be used for training in this script\n",
        "training_subset_idx = training_idx[0:split_index]\n",
        "#pick the second 10% of samples used for validation\n",
        "validation_subset_idx = training_idx[split_index: 2 * split_index]\n",
        "\n",
        "training_subset_sampler = sampler.SubsetRandomSampler(training_subset_idx)\n",
        "validation_sampler = sampler.SubsetRandomSampler(validation_subset_idx)"
      ],
      "execution_count": 2,
      "outputs": [
        {
          "output_type": "error",
          "ename": "FileNotFoundError",
          "evalue": "ignored",
          "traceback": [
            "\u001b[0;31m---------------------------------------------------------------------------\u001b[0m",
            "\u001b[0;31mFileNotFoundError\u001b[0m                         Traceback (most recent call last)",
            "\u001b[0;32m<ipython-input-2-3e2b3a07d694>\u001b[0m in \u001b[0;36m<module>\u001b[0;34m()\u001b[0m\n\u001b[1;32m      1\u001b[0m \u001b[0mcsv_file\u001b[0m \u001b[0;34m=\u001b[0m \u001b[0;34mr'/gdrive/My Drive/patches/1.csv'\u001b[0m\u001b[0;34m\u001b[0m\u001b[0;34m\u001b[0m\u001b[0m\n\u001b[0;32m----> 2\u001b[0;31m \u001b[0mdataset\u001b[0m \u001b[0;34m=\u001b[0m \u001b[0mutils\u001b[0m\u001b[0;34m.\u001b[0m\u001b[0mCTVolumesDataset\u001b[0m\u001b[0;34m(\u001b[0m\u001b[0mcsv_file\u001b[0m\u001b[0;34m)\u001b[0m\u001b[0;34m\u001b[0m\u001b[0;34m\u001b[0m\u001b[0m\n\u001b[0m\u001b[1;32m      3\u001b[0m \u001b[0;34m\u001b[0m\u001b[0m\n\u001b[1;32m      4\u001b[0m \u001b[0;31m#split of data in training, validation and testing data:\u001b[0m\u001b[0;34m\u001b[0m\u001b[0;34m\u001b[0m\u001b[0;34m\u001b[0m\u001b[0m\n\u001b[1;32m      5\u001b[0m \u001b[0;31m#the .csv is shuffled (using the same seed everytime for repeatability)\u001b[0m\u001b[0;34m\u001b[0m\u001b[0;34m\u001b[0m\u001b[0;34m\u001b[0m\u001b[0m\n",
            "\u001b[0;32m/content/cloned-repo/utils/utils.py\u001b[0m in \u001b[0;36m__init__\u001b[0;34m(self, csv_file)\u001b[0m\n\u001b[1;32m      6\u001b[0m \u001b[0;32mclass\u001b[0m \u001b[0mCTVolumesDataset\u001b[0m\u001b[0;34m(\u001b[0m\u001b[0mtorch\u001b[0m\u001b[0;34m.\u001b[0m\u001b[0mutils\u001b[0m\u001b[0;34m.\u001b[0m\u001b[0mdata\u001b[0m\u001b[0;34m.\u001b[0m\u001b[0mDataset\u001b[0m\u001b[0;34m)\u001b[0m\u001b[0;34m:\u001b[0m\u001b[0;34m\u001b[0m\u001b[0;34m\u001b[0m\u001b[0m\n\u001b[1;32m      7\u001b[0m     \u001b[0;32mdef\u001b[0m \u001b[0m__init__\u001b[0m\u001b[0;34m(\u001b[0m\u001b[0mself\u001b[0m\u001b[0;34m,\u001b[0m \u001b[0mcsv_file\u001b[0m\u001b[0;34m)\u001b[0m\u001b[0;34m:\u001b[0m\u001b[0;34m\u001b[0m\u001b[0;34m\u001b[0m\u001b[0m\n\u001b[0;32m----> 8\u001b[0;31m         \u001b[0mself\u001b[0m\u001b[0;34m.\u001b[0m\u001b[0mdataframe\u001b[0m \u001b[0;34m=\u001b[0m \u001b[0mpd\u001b[0m\u001b[0;34m.\u001b[0m\u001b[0mread_csv\u001b[0m\u001b[0;34m(\u001b[0m\u001b[0mcsv_file\u001b[0m\u001b[0;34m)\u001b[0m\u001b[0;34m\u001b[0m\u001b[0;34m\u001b[0m\u001b[0m\n\u001b[0m\u001b[1;32m      9\u001b[0m         \u001b[0;31m#self.root_dir = root_dir\u001b[0m\u001b[0;34m\u001b[0m\u001b[0;34m\u001b[0m\u001b[0;34m\u001b[0m\u001b[0m\n\u001b[1;32m     10\u001b[0m \u001b[0;34m\u001b[0m\u001b[0m\n",
            "\u001b[0;32m/usr/local/lib/python3.6/dist-packages/pandas/io/parsers.py\u001b[0m in \u001b[0;36mparser_f\u001b[0;34m(filepath_or_buffer, sep, delimiter, header, names, index_col, usecols, squeeze, prefix, mangle_dupe_cols, dtype, engine, converters, true_values, false_values, skipinitialspace, skiprows, skipfooter, nrows, na_values, keep_default_na, na_filter, verbose, skip_blank_lines, parse_dates, infer_datetime_format, keep_date_col, date_parser, dayfirst, cache_dates, iterator, chunksize, compression, thousands, decimal, lineterminator, quotechar, quoting, doublequote, escapechar, comment, encoding, dialect, error_bad_lines, warn_bad_lines, delim_whitespace, low_memory, memory_map, float_precision)\u001b[0m\n\u001b[1;32m    683\u001b[0m         )\n\u001b[1;32m    684\u001b[0m \u001b[0;34m\u001b[0m\u001b[0m\n\u001b[0;32m--> 685\u001b[0;31m         \u001b[0;32mreturn\u001b[0m \u001b[0m_read\u001b[0m\u001b[0;34m(\u001b[0m\u001b[0mfilepath_or_buffer\u001b[0m\u001b[0;34m,\u001b[0m \u001b[0mkwds\u001b[0m\u001b[0;34m)\u001b[0m\u001b[0;34m\u001b[0m\u001b[0;34m\u001b[0m\u001b[0m\n\u001b[0m\u001b[1;32m    686\u001b[0m \u001b[0;34m\u001b[0m\u001b[0m\n\u001b[1;32m    687\u001b[0m     \u001b[0mparser_f\u001b[0m\u001b[0;34m.\u001b[0m\u001b[0m__name__\u001b[0m \u001b[0;34m=\u001b[0m \u001b[0mname\u001b[0m\u001b[0;34m\u001b[0m\u001b[0;34m\u001b[0m\u001b[0m\n",
            "\u001b[0;32m/usr/local/lib/python3.6/dist-packages/pandas/io/parsers.py\u001b[0m in \u001b[0;36m_read\u001b[0;34m(filepath_or_buffer, kwds)\u001b[0m\n\u001b[1;32m    455\u001b[0m \u001b[0;34m\u001b[0m\u001b[0m\n\u001b[1;32m    456\u001b[0m     \u001b[0;31m# Create the parser.\u001b[0m\u001b[0;34m\u001b[0m\u001b[0;34m\u001b[0m\u001b[0;34m\u001b[0m\u001b[0m\n\u001b[0;32m--> 457\u001b[0;31m     \u001b[0mparser\u001b[0m \u001b[0;34m=\u001b[0m \u001b[0mTextFileReader\u001b[0m\u001b[0;34m(\u001b[0m\u001b[0mfp_or_buf\u001b[0m\u001b[0;34m,\u001b[0m \u001b[0;34m**\u001b[0m\u001b[0mkwds\u001b[0m\u001b[0;34m)\u001b[0m\u001b[0;34m\u001b[0m\u001b[0;34m\u001b[0m\u001b[0m\n\u001b[0m\u001b[1;32m    458\u001b[0m \u001b[0;34m\u001b[0m\u001b[0m\n\u001b[1;32m    459\u001b[0m     \u001b[0;32mif\u001b[0m \u001b[0mchunksize\u001b[0m \u001b[0;32mor\u001b[0m \u001b[0miterator\u001b[0m\u001b[0;34m:\u001b[0m\u001b[0;34m\u001b[0m\u001b[0;34m\u001b[0m\u001b[0m\n",
            "\u001b[0;32m/usr/local/lib/python3.6/dist-packages/pandas/io/parsers.py\u001b[0m in \u001b[0;36m__init__\u001b[0;34m(self, f, engine, **kwds)\u001b[0m\n\u001b[1;32m    893\u001b[0m             \u001b[0mself\u001b[0m\u001b[0;34m.\u001b[0m\u001b[0moptions\u001b[0m\u001b[0;34m[\u001b[0m\u001b[0;34m\"has_index_names\"\u001b[0m\u001b[0;34m]\u001b[0m \u001b[0;34m=\u001b[0m \u001b[0mkwds\u001b[0m\u001b[0;34m[\u001b[0m\u001b[0;34m\"has_index_names\"\u001b[0m\u001b[0;34m]\u001b[0m\u001b[0;34m\u001b[0m\u001b[0;34m\u001b[0m\u001b[0m\n\u001b[1;32m    894\u001b[0m \u001b[0;34m\u001b[0m\u001b[0m\n\u001b[0;32m--> 895\u001b[0;31m         \u001b[0mself\u001b[0m\u001b[0;34m.\u001b[0m\u001b[0m_make_engine\u001b[0m\u001b[0;34m(\u001b[0m\u001b[0mself\u001b[0m\u001b[0;34m.\u001b[0m\u001b[0mengine\u001b[0m\u001b[0;34m)\u001b[0m\u001b[0;34m\u001b[0m\u001b[0;34m\u001b[0m\u001b[0m\n\u001b[0m\u001b[1;32m    896\u001b[0m \u001b[0;34m\u001b[0m\u001b[0m\n\u001b[1;32m    897\u001b[0m     \u001b[0;32mdef\u001b[0m \u001b[0mclose\u001b[0m\u001b[0;34m(\u001b[0m\u001b[0mself\u001b[0m\u001b[0;34m)\u001b[0m\u001b[0;34m:\u001b[0m\u001b[0;34m\u001b[0m\u001b[0;34m\u001b[0m\u001b[0m\n",
            "\u001b[0;32m/usr/local/lib/python3.6/dist-packages/pandas/io/parsers.py\u001b[0m in \u001b[0;36m_make_engine\u001b[0;34m(self, engine)\u001b[0m\n\u001b[1;32m   1133\u001b[0m     \u001b[0;32mdef\u001b[0m \u001b[0m_make_engine\u001b[0m\u001b[0;34m(\u001b[0m\u001b[0mself\u001b[0m\u001b[0;34m,\u001b[0m \u001b[0mengine\u001b[0m\u001b[0;34m=\u001b[0m\u001b[0;34m\"c\"\u001b[0m\u001b[0;34m)\u001b[0m\u001b[0;34m:\u001b[0m\u001b[0;34m\u001b[0m\u001b[0;34m\u001b[0m\u001b[0m\n\u001b[1;32m   1134\u001b[0m         \u001b[0;32mif\u001b[0m \u001b[0mengine\u001b[0m \u001b[0;34m==\u001b[0m \u001b[0;34m\"c\"\u001b[0m\u001b[0;34m:\u001b[0m\u001b[0;34m\u001b[0m\u001b[0;34m\u001b[0m\u001b[0m\n\u001b[0;32m-> 1135\u001b[0;31m             \u001b[0mself\u001b[0m\u001b[0;34m.\u001b[0m\u001b[0m_engine\u001b[0m \u001b[0;34m=\u001b[0m \u001b[0mCParserWrapper\u001b[0m\u001b[0;34m(\u001b[0m\u001b[0mself\u001b[0m\u001b[0;34m.\u001b[0m\u001b[0mf\u001b[0m\u001b[0;34m,\u001b[0m \u001b[0;34m**\u001b[0m\u001b[0mself\u001b[0m\u001b[0;34m.\u001b[0m\u001b[0moptions\u001b[0m\u001b[0;34m)\u001b[0m\u001b[0;34m\u001b[0m\u001b[0;34m\u001b[0m\u001b[0m\n\u001b[0m\u001b[1;32m   1136\u001b[0m         \u001b[0;32melse\u001b[0m\u001b[0;34m:\u001b[0m\u001b[0;34m\u001b[0m\u001b[0;34m\u001b[0m\u001b[0m\n\u001b[1;32m   1137\u001b[0m             \u001b[0;32mif\u001b[0m \u001b[0mengine\u001b[0m \u001b[0;34m==\u001b[0m \u001b[0;34m\"python\"\u001b[0m\u001b[0;34m:\u001b[0m\u001b[0;34m\u001b[0m\u001b[0;34m\u001b[0m\u001b[0m\n",
            "\u001b[0;32m/usr/local/lib/python3.6/dist-packages/pandas/io/parsers.py\u001b[0m in \u001b[0;36m__init__\u001b[0;34m(self, src, **kwds)\u001b[0m\n\u001b[1;32m   1915\u001b[0m         \u001b[0mkwds\u001b[0m\u001b[0;34m[\u001b[0m\u001b[0;34m\"usecols\"\u001b[0m\u001b[0;34m]\u001b[0m \u001b[0;34m=\u001b[0m \u001b[0mself\u001b[0m\u001b[0;34m.\u001b[0m\u001b[0musecols\u001b[0m\u001b[0;34m\u001b[0m\u001b[0;34m\u001b[0m\u001b[0m\n\u001b[1;32m   1916\u001b[0m \u001b[0;34m\u001b[0m\u001b[0m\n\u001b[0;32m-> 1917\u001b[0;31m         \u001b[0mself\u001b[0m\u001b[0;34m.\u001b[0m\u001b[0m_reader\u001b[0m \u001b[0;34m=\u001b[0m \u001b[0mparsers\u001b[0m\u001b[0;34m.\u001b[0m\u001b[0mTextReader\u001b[0m\u001b[0;34m(\u001b[0m\u001b[0msrc\u001b[0m\u001b[0;34m,\u001b[0m \u001b[0;34m**\u001b[0m\u001b[0mkwds\u001b[0m\u001b[0;34m)\u001b[0m\u001b[0;34m\u001b[0m\u001b[0;34m\u001b[0m\u001b[0m\n\u001b[0m\u001b[1;32m   1918\u001b[0m         \u001b[0mself\u001b[0m\u001b[0;34m.\u001b[0m\u001b[0munnamed_cols\u001b[0m \u001b[0;34m=\u001b[0m \u001b[0mself\u001b[0m\u001b[0;34m.\u001b[0m\u001b[0m_reader\u001b[0m\u001b[0;34m.\u001b[0m\u001b[0munnamed_cols\u001b[0m\u001b[0;34m\u001b[0m\u001b[0;34m\u001b[0m\u001b[0m\n\u001b[1;32m   1919\u001b[0m \u001b[0;34m\u001b[0m\u001b[0m\n",
            "\u001b[0;32mpandas/_libs/parsers.pyx\u001b[0m in \u001b[0;36mpandas._libs.parsers.TextReader.__cinit__\u001b[0;34m()\u001b[0m\n",
            "\u001b[0;32mpandas/_libs/parsers.pyx\u001b[0m in \u001b[0;36mpandas._libs.parsers.TextReader._setup_parser_source\u001b[0;34m()\u001b[0m\n",
            "\u001b[0;31mFileNotFoundError\u001b[0m: [Errno 2] File b'/gdrive/My Drive/patches/1.csv' does not exist: b'/gdrive/My Drive/patches/1.csv'"
          ]
        }
      ]
    },
    {
      "cell_type": "code",
      "metadata": {
        "id": "PHZFm6B3n2QX",
        "colab_type": "code",
        "colab": {}
      },
      "source": [
        "num_epochs = 100\n",
        "bs = 32\n",
        "lr_list = [0.01, 0.001, 0.0001, 0.00001]\n",
        "criterion = nn.L1Loss()\n",
        "\n",
        "training_losses = []\n",
        "validation_losses = []\n",
        "\n",
        "training_subset_dataloader = torch.utils.data.DataLoader(dataset=dataset, batch_size = bs, sampler = training_subset_sampler)\n",
        "validation_dataloader = torch.utils.data.DataLoader(dataset=dataset, batch_size = bs, sampler = validation_sampler)\n",
        "\n",
        "for lr in lr_list:\n",
        "  training_loss_list = []\n",
        "  validation_loss_list = []\n",
        "  model = EDCNN()\n",
        "  optimizer = torch.optim.Adam(model.parameters(), lr = lr)  \n",
        "  if torch.cuda.is_available():\n",
        "      model.cuda()\n",
        "      criterion.cuda() \n",
        "  for epoch in range(num_epochs):\n",
        "    epoch_loss = 0\n",
        "    num_batches = 0\n",
        "    model.train()\n",
        "    for batch, (lo_res, hi_res) in enumerate(training_subset_dataloader):\n",
        "      #add an extra dimension:\n",
        "      lo_res = utils.var_or_cuda( lo_res.unsqueeze(1) )\n",
        "      hi_res = utils.var_or_cuda(hi_res)\n",
        "      if lo_res.size()[0] != bs:\n",
        "          #print(\"batch_size != {} drop last incompatible batch\".format( bs ))\n",
        "          continue\n",
        "      num_batch += 1\n",
        "      #forward pass \n",
        "      outputs = model(lo_res)\n",
        "      loss = criterion(outputs, hi_res.unsqueeze(1))\n",
        "      epoch_loss += loss\n",
        "      optimizer.zero_grad()\n",
        "      loss.backward()\n",
        "      optimizer.step()\n",
        "\n",
        "    print('Training epoch [{}/{}]' .format(epoch+1) )     \n",
        "    training_loss_list.append( epoch_loss/num_batches )\n",
        "      \n",
        "    model.eval()\n",
        "    epoch_loss = 0\n",
        "    num_batches = 0\n",
        "    with torch.no_grad():\n",
        "      for batch, (lo_res, hi_res) in enumerate(validation_dataloader):\n",
        "        #add an extra dimension:\n",
        "        lo_res = utils.var_or_cuda( lo_res.unsqueeze(1) )\n",
        "        hi_res = utils.var_or_cuda(hi_res)\n",
        "        if lo_res.size()[0] != bs:\n",
        "            #print(\"batch_size != {} drop last incompatible batch\".format( bs ))\n",
        "            continue\n",
        "        num_batch += 1\n",
        "        #forward pass \n",
        "        outputs = model(lo_res)\n",
        "        loss = criterion(outputs, hi_res.unsqueeze(1))\n",
        "        epoch_loss += loss\n",
        "\n",
        "      print('Validation epoch [{}/{}]'.format(epoch+1) )     \n",
        "      validation_loss_list.append( epoch_loss/num_batches )\n",
        "    \n",
        "  training_losses.append( (training_loss_list, {\"lr\": lr, \"batch_size\" = bs} ) )\n",
        "  validation_losses.append( (validation_loss_list, {\"lr\": lr, \"batch_size\" = bs} ) )\n",
        "  \n",
        "  "
      ],
      "execution_count": 0,
      "outputs": []
    },
    {
      "cell_type": "code",
      "metadata": {
        "id": "XKAxvWMgSbkP",
        "colab_type": "code",
        "outputId": "0ea42ded-db28-40ce-fbf2-8f7ecbe313bc",
        "colab": {
          "base_uri": "https://localhost:8080/",
          "height": 283
        }
      },
      "source": [
        "len(training_loss_list)\n",
        "plt.plot(np.array(validation_loss_list)/(30*20), color = 'blue')\n",
        "plt.plot(np.array(training_loss_list)/(30*20), color = 'olive')"
      ],
      "execution_count": 0,
      "outputs": [
        {
          "output_type": "execute_result",
          "data": {
            "text/plain": [
              "[<matplotlib.lines.Line2D at 0x7f04ee3149e8>]"
            ]
          },
          "metadata": {
            "tags": []
          },
          "execution_count": 16
        },
        {
          "output_type": "display_data",
          "data": {
            "image/png": "[encoded data removed]",
            "text/plain": [
              "<Figure size 432x288 with 1 Axes>"
            ]
          },
          "metadata": {
            "tags": []
          }
        }
      ]
    },
    {
      "cell_type": "code",
      "metadata": {
        "id": "r6lgXcWfm54r",
        "colab_type": "code",
        "colab": {}
      },
      "source": [
        "'''\n",
        "bs_list = [1, 2, 4, 8, 16, 32]\n",
        "lr_list = [0.01, 0.001, 0.0001, 0.00001]\n",
        "bs_np, lr_np = np.array(bs_list), np.array(lr_list)\n",
        "bs_mat, lr_mat = np.meshgrid(bs_np, lr_np)\n",
        "bs_np = np.resize(bs_mat, -1)\n",
        "lr_np = np.resize(lr_mat, -1)\n",
        "\n",
        "num_epochs = 30\n",
        "criterion = nn.L1Loss()\n",
        "\n",
        "training_losses = []\n",
        "validation_losses = []\n",
        "\n",
        "#for i in range(len(lr_np)):\n",
        "for i in range(1):  \n",
        "  training_loss_list = []\n",
        "  validation_loss_list = []\n",
        "\n",
        "  lr = int(lr_np[i])\n",
        "  bs = int(bs_np[i])\n",
        "  lr = 0.00005\n",
        "  bs = 32\n",
        "\n",
        "  #dataloader\n",
        "  training_subset_dataloader = torch.utils.data.DataLoader(dataset=dataset, batch_size = bs, sampler = training_subset_sampler)\n",
        "  validation_dataloader = torch.utils.data.DataLoader(dataset=dataset, batch_size = bs, sampler = validation_sampler)\n",
        "  total_step = len(training_subset_dataloader)\n",
        "\n",
        "  model = EDCNN()\n",
        "\n",
        "  optimizer = torch.optim.Adam(model.parameters(), lr = lr)  \n",
        "  if torch.cuda.is_available():\n",
        "      model.cuda()\n",
        "      criterion.cuda()\n",
        "  for epoch in range(num_epochs):\n",
        "    epoch_loss = 0\n",
        "    \n",
        "    model.train()\n",
        "\n",
        "    for batch, (lo_res, hi_res) in enumerate(training_subset_dataloader):\n",
        "      #add an extra dimension:\n",
        "      lo_res = utils.var_or_cuda( lo_res.unsqueeze(1) )\n",
        "      hi_res = utils.var_or_cuda(hi_res)\n",
        "      if lo_res.size()[0] != bs:\n",
        "          print(\"batch_size != {} drop last incompatible batch\".format( bs ))\n",
        "          continue\n",
        "\n",
        "      #forward pass \n",
        "      outputs = model(lo_res)\n",
        "      loss = criterion(outputs, hi_res.unsqueeze(1))\n",
        "      epoch_loss += loss\n",
        "      optimizer.zero_grad()\n",
        "      loss.backward()\n",
        "      optimizer.step()\n",
        "\n",
        "      if (batch+1) % 1 == 0:\n",
        "          print('Epoch [{}/{}], Step [{}/{}], Loss: {:.4f}' \n",
        "              .format(epoch+1, num_epochs, batch+1, total_step, loss.item()))    \n",
        "    training_loss_list.append(epoch_loss)\n",
        "    \n",
        "  \n",
        "    model.eval()\n",
        "    model.zero_grad()\n",
        "    epoch_loss = 0\n",
        "\n",
        "    with torch.no_grad():\n",
        "\n",
        "      for batch, (lo_res, hi_res) in enumerate(validation_dataloader):\n",
        "\n",
        "        #add an extra dimension:\n",
        "        lo_res = utils.var_or_cuda( lo_res.unsqueeze(1) )\n",
        "        hi_res = utils.var_or_cuda(hi_res)\n",
        "        if lo_res.size()[0] != bs:\n",
        "            print(\"batch_size != {} drop last incompatible batch\".format( bs ))\n",
        "            continue\n",
        "\n",
        "        #forward pass \n",
        "        outputs = model(lo_res)\n",
        "        loss = criterion(outputs, hi_res.unsqueeze(1))\n",
        "        epoch_loss += loss\n",
        "\n",
        "        if (batch+1) % 1 == 0:\n",
        "            print('Epoch [{}/{}], Step [{}/{}], Loss: {:.4f}' \n",
        "                .format(epoch+1, num_epochs, batch+1, total_step, loss.item()))\n",
        "      validation_loss_list.append(epoch_loss)\n",
        "    \n",
        "  training_losses.append(training_loss_list)\n",
        "  validation_losses.append(validation_loss_list)\n",
        "  '''\n",
        "  "
      ],
      "execution_count": 0,
      "outputs": []
    }
  ]
}