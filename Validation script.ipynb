{
  "nbformat": 4,
  "nbformat_minor": 0,
  "metadata": {
    "kernelspec": {
      "name": "python3",
      "display_name": "Python 3"
    },
    "language_info": {
      "codemirror_mode": {
        "name": "ipython",
        "version": 3
      },
      "file_extension": ".py",
      "mimetype": "text/x-python",
      "name": "python",
      "nbconvert_exporter": "python",
      "pygments_lexer": "ipython3",
      "version": "3.7.4"
    },
    "colab": {
      "name": "Validation script.ipynb",
      "provenance": []
    },
    "accelerator": "GPU"
  },
  "cells": [
    {
      "cell_type": "markdown",
      "metadata": {
        "id": "YIth1W4lkKkY",
        "colab_type": "text"
      },
      "source": [
        "# Tuning of hyperparameters\n",
        "#### Script to train the model multiple times using different values for batch size and learning rate. The training is done using a small subset of the total training dataset and the results are validated against a different subset."
      ]
    },
    {
      "cell_type": "code",
      "metadata": {
        "colab_type": "code",
        "outputId": "45a85184-7640-4c3e-820b-4439054fde1c",
        "id": "G9if_8ekya5a",
        "colab": {
          "base_uri": "https://localhost:8080/",
          "height": 72
        }
      },
      "source": [
        "!git clone -l -s git://github.com/juanigp/CT-denoising.git cloned-repo\n",
        "%cd cloned-repo\n",
        "from google.colab import drive\n",
        "drive.mount('/gdrive', force_remount = True)\n",
        "\n",
        "import os\n",
        "from IPython.core.debugger import set_trace\n",
        "from models.EDCNN import EDCNN\n",
        "from utils import utils\n",
        "import torch\n",
        "import torch.nn as nn\n",
        "import torch.utils.data.sampler as sampler\n",
        "from torch.autograd import Variable\n",
        "from matplotlib import pyplot as plt\n",
        "import random\n",
        "import numpy as np"
      ],
      "execution_count": 0,
      "outputs": [
        {
          "output_type": "stream",
          "text": [
            "fatal: destination path 'cloned-repo' already exists and is not an empty directory.\n",
            "/content/cloned-repo\n",
            "Mounted at /gdrive\n"
          ],
          "name": "stdout"
        }
      ]
    },
    {
      "cell_type": "code",
      "metadata": {
        "id": "npSXcEpVfCJf",
        "colab_type": "code",
        "colab": {}
      },
      "source": [
        "#csv file containing the directories of the lo res and ground truth patches\n",
        "csv_file = r'/gdrive/My Drive/patches/1.csv' \n",
        "dataset = utils.CTVolumesDataset(csv_file)\n",
        "\n",
        "#split of data in training, validation and testing data:\n",
        "#the .csv is shuffled (using the same seed everytime for repeatability)\n",
        "num_samples = len(dataset)\n",
        "total_idx = list(range(num_samples))\n",
        "random.seed(10)\n",
        "random.shuffle(total_idx)\n",
        "\n",
        "#pick 10% of samples to test\n",
        "testing_samples_percentage = 0.1\n",
        "split_index = int( num_samples * testing_samples_percentage )\n",
        "#pick the first 10% of samples in the shuffled dataset for testing\n",
        "testing_idx = total_idx[0 : split_index]\n",
        "#pick the other 90% of samples in the shuffled dataset for training\n",
        "training_idx = total_idx[split_index : num_samples]\n",
        "#pick the first 10% of samples used for training. These are the samples that are going to be used for training in this script\n",
        "training_subset_idx = training_idx[0:split_index]\n",
        "#pick the second 10% of samples used for validation\n",
        "validation_subset_idx = training_idx[split_index: 2 * split_index]\n",
        "\n",
        "training_subset_sampler = sampler.SubsetRandomSampler(training_subset_idx)\n",
        "validation_sampler = sampler.SubsetRandomSampler(validation_subset_idx)"
      ],
      "execution_count": 0,
      "outputs": []
    },
    {
      "cell_type": "code",
      "metadata": {
        "id": "r6lgXcWfm54r",
        "colab_type": "code",
        "outputId": "a7b178c8-f434-4319-cbc9-a21c12c7538d",
        "colab": {
          "base_uri": "https://localhost:8080/",
          "height": 1000
        }
      },
      "source": [
        "bs_list = [1, 2, 4, 8, 16, 32]\n",
        "lr_list = [0.01, 0.001, 0.0001, 0.00001]\n",
        "bs_np, lr_np = np.array(bs_list), np.array(lr_list)\n",
        "bs_mat, lr_mat = np.meshgrid(bs_np, lr_np)\n",
        "bs_np = np.resize(bs_mat, -1)\n",
        "lr_np = np.resize(lr_mat, -1)\n",
        "\n",
        "num_epochs = 30\n",
        "criterion = nn.L1Loss()\n",
        "\n",
        "training_losses = []\n",
        "validation_losses = []\n",
        "\n",
        "#for i in range(len(lr_np)):\n",
        "for i in range(1):  \n",
        "  training_loss_list = []\n",
        "  validation_loss_list = []\n",
        "\n",
        "  lr = int(lr_np[i])\n",
        "  bs = int(bs_np[i])\n",
        "  lr = 0.00005\n",
        "  bs = 32\n",
        "\n",
        "  #dataloader\n",
        "  training_subset_dataloader = torch.utils.data.DataLoader(dataset=dataset, batch_size = bs, sampler = training_subset_sampler)\n",
        "  validation_dataloader = torch.utils.data.DataLoader(dataset=dataset, batch_size = bs, sampler = validation_sampler)\n",
        "  total_step = len(training_subset_dataloader)\n",
        "\n",
        "  model = EDCNN()\n",
        "\n",
        "  optimizer = torch.optim.Adam(model.parameters(), lr = lr)  \n",
        "  if torch.cuda.is_available():\n",
        "      model.cuda()\n",
        "      criterion.cuda()\n",
        "  for epoch in range(num_epochs):\n",
        "    epoch_loss = 0\n",
        "    \n",
        "    model.train()\n",
        "\n",
        "    for batch, (lo_res, hi_res) in enumerate(training_subset_dataloader):\n",
        "      #add an extra dimension:\n",
        "      lo_res = utils.var_or_cuda( lo_res.unsqueeze(1) )\n",
        "      hi_res = utils.var_or_cuda(hi_res)\n",
        "      if lo_res.size()[0] != bs:\n",
        "          print(\"batch_size != {} drop last incompatible batch\".format( bs ))\n",
        "          continue\n",
        "\n",
        "      #forward pass \n",
        "      outputs = model(lo_res)\n",
        "      loss = criterion(outputs, hi_res.unsqueeze(1))\n",
        "      epoch_loss += loss\n",
        "      optimizer.zero_grad()\n",
        "      loss.backward()\n",
        "      optimizer.step()\n",
        "\n",
        "      if (batch+1) % 1 == 0:\n",
        "          print('Epoch [{}/{}], Step [{}/{}], Loss: {:.4f}' \n",
        "              .format(epoch+1, num_epochs, batch+1, total_step, loss.item()))    \n",
        "    training_loss_list.append(epoch_loss)\n",
        "    \n",
        "  \n",
        "    model.eval()\n",
        "    model.zero_grad()\n",
        "    epoch_loss = 0\n",
        "\n",
        "    with torch.no_grad():\n",
        "\n",
        "      for batch, (lo_res, hi_res) in enumerate(validation_dataloader):\n",
        "\n",
        "        #add an extra dimension:\n",
        "        lo_res = utils.var_or_cuda( lo_res.unsqueeze(1) )\n",
        "        hi_res = utils.var_or_cuda(hi_res)\n",
        "        if lo_res.size()[0] != bs:\n",
        "            print(\"batch_size != {} drop last incompatible batch\".format( bs ))\n",
        "            continue\n",
        "\n",
        "        #forward pass \n",
        "        outputs = model(lo_res)\n",
        "        loss = criterion(outputs, hi_res.unsqueeze(1))\n",
        "        epoch_loss += loss\n",
        "\n",
        "        if (batch+1) % 1 == 0:\n",
        "            print('Epoch [{}/{}], Step [{}/{}], Loss: {:.4f}' \n",
        "                .format(epoch+1, num_epochs, batch+1, total_step, loss.item()))\n",
        "      validation_loss_list.append(epoch_loss)\n",
        "    \n",
        "  training_losses.append(training_loss_list)\n",
        "  validation_losses.append(validation_loss_list)\n",
        "  \n",
        "  "
      ],
      "execution_count": 0,
      "outputs": [
        {
          "output_type": "stream",
          "text": [
            "Epoch [1/30], Step [1/11], Loss: 145.9101\n",
            "Epoch [1/30], Step [2/11], Loss: 146.0580\n",
            "Epoch [1/30], Step [3/11], Loss: 153.1261\n",
            "Epoch [1/30], Step [4/11], Loss: 148.8514\n",
            "Epoch [1/30], Step [5/11], Loss: 147.6437\n",
            "Epoch [1/30], Step [6/11], Loss: 148.2355\n",
            "Epoch [1/30], Step [7/11], Loss: 147.2507\n",
            "Epoch [1/30], Step [8/11], Loss: 151.3611\n",
            "Epoch [1/30], Step [9/11], Loss: 154.0726\n",
            "Epoch [1/30], Step [10/11], Loss: 135.6117\n",
            "batch_size != 32 drop last incompatible batch\n",
            "Epoch [1/30], Step [1/11], Loss: 144.5114\n",
            "Epoch [1/30], Step [2/11], Loss: 133.6452\n",
            "Epoch [1/30], Step [3/11], Loss: 137.4046\n",
            "Epoch [1/30], Step [4/11], Loss: 136.0155\n",
            "Epoch [1/30], Step [5/11], Loss: 139.2209\n",
            "Epoch [1/30], Step [6/11], Loss: 132.9982\n",
            "Epoch [1/30], Step [7/11], Loss: 143.0548\n",
            "Epoch [1/30], Step [8/11], Loss: 137.4522\n",
            "Epoch [1/30], Step [9/11], Loss: 127.6837\n",
            "Epoch [1/30], Step [10/11], Loss: 141.7758\n",
            "batch_size != 32 drop last incompatible batch\n",
            "Epoch [2/30], Step [1/11], Loss: 136.0984\n",
            "Epoch [2/30], Step [2/11], Loss: 134.0316\n",
            "Epoch [2/30], Step [3/11], Loss: 133.3902\n",
            "Epoch [2/30], Step [4/11], Loss: 139.7010\n",
            "Epoch [2/30], Step [5/11], Loss: 146.3077\n",
            "Epoch [2/30], Step [6/11], Loss: 132.5663\n",
            "Epoch [2/30], Step [7/11], Loss: 141.1895\n",
            "Epoch [2/30], Step [8/11], Loss: 130.7682\n",
            "Epoch [2/30], Step [9/11], Loss: 135.5091\n",
            "Epoch [2/30], Step [10/11], Loss: 139.1651\n",
            "batch_size != 32 drop last incompatible batch\n",
            "Epoch [2/30], Step [1/11], Loss: 129.1923\n",
            "Epoch [2/30], Step [2/11], Loss: 132.2115\n",
            "Epoch [2/30], Step [3/11], Loss: 132.4223\n",
            "Epoch [2/30], Step [4/11], Loss: 133.6876\n",
            "Epoch [2/30], Step [5/11], Loss: 139.4886\n",
            "Epoch [2/30], Step [6/11], Loss: 131.8502\n",
            "Epoch [2/30], Step [7/11], Loss: 131.6863\n",
            "Epoch [2/30], Step [8/11], Loss: 139.5808\n",
            "Epoch [2/30], Step [9/11], Loss: 137.9954\n",
            "Epoch [2/30], Step [10/11], Loss: 145.2125\n",
            "batch_size != 32 drop last incompatible batch\n",
            "Epoch [3/30], Step [1/11], Loss: 138.5897\n",
            "Epoch [3/30], Step [2/11], Loss: 130.0860\n",
            "Epoch [3/30], Step [3/11], Loss: 135.1690\n",
            "Epoch [3/30], Step [4/11], Loss: 132.9738\n",
            "Epoch [3/30], Step [5/11], Loss: 133.8125\n",
            "Epoch [3/30], Step [6/11], Loss: 131.6057\n",
            "Epoch [3/30], Step [7/11], Loss: 134.8914\n",
            "Epoch [3/30], Step [8/11], Loss: 135.6049\n",
            "Epoch [3/30], Step [9/11], Loss: 128.8750\n",
            "Epoch [3/30], Step [10/11], Loss: 133.7549\n",
            "batch_size != 32 drop last incompatible batch\n",
            "Epoch [3/30], Step [1/11], Loss: 132.1528\n",
            "Epoch [3/30], Step [2/11], Loss: 134.4189\n",
            "Epoch [3/30], Step [3/11], Loss: 131.3522\n",
            "Epoch [3/30], Step [4/11], Loss: 127.0702\n",
            "Epoch [3/30], Step [5/11], Loss: 112.2066\n",
            "Epoch [3/30], Step [6/11], Loss: 127.9121\n",
            "Epoch [3/30], Step [7/11], Loss: 140.6175\n",
            "Epoch [3/30], Step [8/11], Loss: 126.3568\n",
            "Epoch [3/30], Step [9/11], Loss: 133.3580\n",
            "Epoch [3/30], Step [10/11], Loss: 129.9512\n",
            "batch_size != 32 drop last incompatible batch\n",
            "Epoch [4/30], Step [1/11], Loss: 129.8445\n",
            "Epoch [4/30], Step [2/11], Loss: 128.0041\n",
            "Epoch [4/30], Step [3/11], Loss: 123.4650\n",
            "Epoch [4/30], Step [4/11], Loss: 129.0069\n",
            "Epoch [4/30], Step [5/11], Loss: 126.9471\n",
            "Epoch [4/30], Step [6/11], Loss: 135.7594\n",
            "Epoch [4/30], Step [7/11], Loss: 130.4405\n",
            "Epoch [4/30], Step [8/11], Loss: 120.5896\n",
            "Epoch [4/30], Step [9/11], Loss: 123.1931\n",
            "Epoch [4/30], Step [10/11], Loss: 127.0397\n",
            "batch_size != 32 drop last incompatible batch\n",
            "Epoch [4/30], Step [1/11], Loss: 123.8136\n",
            "Epoch [4/30], Step [2/11], Loss: 126.7384\n",
            "Epoch [4/30], Step [3/11], Loss: 115.3400\n",
            "Epoch [4/30], Step [4/11], Loss: 122.5845\n",
            "Epoch [4/30], Step [5/11], Loss: 124.9508\n",
            "Epoch [4/30], Step [6/11], Loss: 126.0526\n",
            "Epoch [4/30], Step [7/11], Loss: 122.7711\n",
            "Epoch [4/30], Step [8/11], Loss: 131.1134\n",
            "Epoch [4/30], Step [9/11], Loss: 124.0881\n",
            "Epoch [4/30], Step [10/11], Loss: 121.1615\n",
            "batch_size != 32 drop last incompatible batch\n",
            "Epoch [5/30], Step [1/11], Loss: 130.5568\n",
            "Epoch [5/30], Step [2/11], Loss: 122.8341\n",
            "Epoch [5/30], Step [3/11], Loss: 117.5678\n",
            "Epoch [5/30], Step [4/11], Loss: 117.5646\n",
            "Epoch [5/30], Step [5/11], Loss: 125.8915\n",
            "Epoch [5/30], Step [6/11], Loss: 123.2542\n",
            "Epoch [5/30], Step [7/11], Loss: 128.1772\n",
            "Epoch [5/30], Step [8/11], Loss: 119.4582\n",
            "Epoch [5/30], Step [9/11], Loss: 123.9037\n",
            "Epoch [5/30], Step [10/11], Loss: 118.9636\n",
            "batch_size != 32 drop last incompatible batch\n",
            "Epoch [5/30], Step [1/11], Loss: 123.5092\n",
            "Epoch [5/30], Step [2/11], Loss: 121.6656\n",
            "Epoch [5/30], Step [3/11], Loss: 114.1726\n",
            "Epoch [5/30], Step [4/11], Loss: 119.8936\n",
            "Epoch [5/30], Step [5/11], Loss: 120.5257\n",
            "Epoch [5/30], Step [6/11], Loss: 126.3550\n",
            "Epoch [5/30], Step [7/11], Loss: 116.6854\n",
            "Epoch [5/30], Step [8/11], Loss: 122.4289\n",
            "Epoch [5/30], Step [9/11], Loss: 121.1254\n",
            "Epoch [5/30], Step [10/11], Loss: 118.7190\n",
            "batch_size != 32 drop last incompatible batch\n",
            "Epoch [6/30], Step [1/11], Loss: 114.8452\n",
            "Epoch [6/30], Step [2/11], Loss: 120.2621\n",
            "Epoch [6/30], Step [3/11], Loss: 130.3110\n",
            "Epoch [6/30], Step [4/11], Loss: 119.6448\n",
            "Epoch [6/30], Step [5/11], Loss: 118.7610\n",
            "Epoch [6/30], Step [6/11], Loss: 110.1749\n",
            "Epoch [6/30], Step [7/11], Loss: 114.7721\n"
          ],
          "name": "stdout"
        },
        {
          "output_type": "error",
          "ename": "KeyboardInterrupt",
          "evalue": "ignored",
          "traceback": [
            "\u001b[0;31m---------------------------------------------------------------------------\u001b[0m",
            "\u001b[0;31mKeyboardInterrupt\u001b[0m                         Traceback (most recent call last)",
            "\u001b[0;32m<ipython-input-17-9f0a2bf88416>\u001b[0m in \u001b[0;36m<module>\u001b[0;34m()\u001b[0m\n\u001b[1;32m     56\u001b[0m       \u001b[0;32mif\u001b[0m \u001b[0;34m(\u001b[0m\u001b[0mbatch\u001b[0m\u001b[0;34m+\u001b[0m\u001b[0;36m1\u001b[0m\u001b[0;34m)\u001b[0m \u001b[0;34m%\u001b[0m \u001b[0;36m1\u001b[0m \u001b[0;34m==\u001b[0m \u001b[0;36m0\u001b[0m\u001b[0;34m:\u001b[0m\u001b[0;34m\u001b[0m\u001b[0;34m\u001b[0m\u001b[0m\n\u001b[1;32m     57\u001b[0m           print('Epoch [{}/{}], Step [{}/{}], Loss: {:.4f}' \n\u001b[0;32m---> 58\u001b[0;31m               .format(epoch+1, num_epochs, batch+1, total_step, loss.item()))    \n\u001b[0m\u001b[1;32m     59\u001b[0m     \u001b[0mtraining_loss_list\u001b[0m\u001b[0;34m.\u001b[0m\u001b[0mappend\u001b[0m\u001b[0;34m(\u001b[0m\u001b[0mepoch_loss\u001b[0m\u001b[0;34m)\u001b[0m\u001b[0;34m\u001b[0m\u001b[0;34m\u001b[0m\u001b[0m\n\u001b[1;32m     60\u001b[0m \u001b[0;34m\u001b[0m\u001b[0m\n",
            "\u001b[0;31mKeyboardInterrupt\u001b[0m: "
          ]
        }
      ]
    },
    {
      "cell_type": "code",
      "metadata": {
        "id": "XKAxvWMgSbkP",
        "colab_type": "code",
        "outputId": "0ea42ded-db28-40ce-fbf2-8f7ecbe313bc",
        "colab": {
          "base_uri": "https://localhost:8080/",
          "height": 283
        }
      },
      "source": [
        "len(training_loss_list)\n",
        "plt.plot(np.array(validation_loss_list)/(30*20), color = 'blue')\n",
        "plt.plot(np.array(training_loss_list)/(30*20), color = 'olive')"
      ],
      "execution_count": 0,
      "outputs": [
        {
          "output_type": "execute_result",
          "data": {
            "text/plain": [
              "[<matplotlib.lines.Line2D at 0x7f04ee3149e8>]"
            ]
          },
          "metadata": {
            "tags": []
          },
          "execution_count": 16
        },
        {
          "output_type": "display_data",
          "data": {
            "image/png": "[encoded data removed]",
            "text/plain": [
              "<Figure size 432x288 with 1 Axes>"
            ]
          },
          "metadata": {
            "tags": []
          }
        }
      ]
    },
    {
      "cell_type": "code",
      "metadata": {
        "id": "WQZjYijRXdur",
        "colab_type": "code",
        "outputId": "b5247f7f-8af3-458c-b535-2928d6f5d83c",
        "colab": {
          "base_uri": "https://localhost:8080/",
          "height": 35
        }
      },
      "source": [
        "asd = []\n",
        "for i in range(10):\n",
        "  asd.append(0)\n",
        "  asd[-1] += i\n",
        "print (asd)\n"
      ],
      "execution_count": 0,
      "outputs": [
        {
          "output_type": "stream",
          "text": [
            "[0, 1, 2, 3, 4, 5, 6, 7, 8, 9]\n"
          ],
          "name": "stdout"
        }
      ]
    }
  ]
}