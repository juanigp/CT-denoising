{
  "nbformat": 4,
  "nbformat_minor": 0,
  "metadata": {
    "kernelspec": {
      "name": "python3",
      "display_name": "Python 3"
    },
    "language_info": {
      "codemirror_mode": {
        "name": "ipython",
        "version": 3
      },
      "file_extension": ".py",
      "mimetype": "text/x-python",
      "name": "python",
      "nbconvert_exporter": "python",
      "pygments_lexer": "ipython3",
      "version": "3.6.6"
    },
    "colab": {
      "name": "REDCNN.ipynb",
      "provenance": []
    },
    "accelerator": "GPU"
  },
  "cells": [
    {
      "cell_type": "markdown",
      "metadata": {
        "id": "itvuHsMtyEeO",
        "colab_type": "text"
      },
      "source": [
        "# Training of REDCNN\n",
        "### Comments:\n",
        "- add code to resume training\n",
        " \n"
      ]
    },
    {
      "cell_type": "code",
      "metadata": {
        "id": "Suh3h4QoyEeU",
        "colab_type": "code",
        "colab": {
          "base_uri": "https://localhost:8080/",
          "height": 201
        },
        "outputId": "bab21e2a-3e9f-4a3f-ab98-34cb37b0fcd3"
      },
      "source": [
        "using_colab = True\n",
        "\n",
        "if using_colab :\n",
        "  !git clone -l -s git://github.com/juanigp/CT-denoising.git cloned-repo\n",
        "  %cd cloned-repo\n",
        "  from google.colab import drive\n",
        "  drive.mount('/gdrive')\n",
        "\n",
        "\n",
        "import os\n",
        "from IPython.core.debugger import set_trace\n",
        "from models.Mini_REDCNN import REDCNN\n",
        "from utils import utils\n",
        "import torch\n",
        "import torch.nn as nn\n",
        "import torch.utils.data.sampler as sampler\n",
        "from torch.autograd import Variable\n",
        "from matplotlib import pyplot as plt\n",
        "import random\n",
        "import numpy as np"
      ],
      "execution_count": 15,
      "outputs": [
        {
          "output_type": "stream",
          "text": [
            "Cloning into 'cloned-repo'...\n",
            "warning: --local is ignored\n",
            "remote: Enumerating objects: 166, done.\u001b[K\n",
            "remote: Counting objects:   0% (1/166)\u001b[K\rremote: Counting objects:   1% (2/166)\u001b[K\rremote: Counting objects:   2% (4/166)\u001b[K\rremote: Counting objects:   3% (5/166)\u001b[K\rremote: Counting objects:   4% (7/166)\u001b[K\rremote: Counting objects:   5% (9/166)\u001b[K\rremote: Counting objects:   6% (10/166)\u001b[K\rremote: Counting objects:   7% (12/166)\u001b[K\rremote: Counting objects:   8% (14/166)\u001b[K\rremote: Counting objects:   9% (15/166)\u001b[K\rremote: Counting objects:  10% (17/166)\u001b[K\rremote: Counting objects:  11% (19/166)\u001b[K\rremote: Counting objects:  12% (20/166)\u001b[K\rremote: Counting objects:  13% (22/166)\u001b[K\rremote: Counting objects:  14% (24/166)\u001b[K\rremote: Counting objects:  15% (25/166)\u001b[K\rremote: Counting objects:  16% (27/166)\u001b[K\rremote: Counting objects:  17% (29/166)\u001b[K\rremote: Counting objects:  18% (30/166)\u001b[K\rremote: Counting objects:  19% (32/166)\u001b[K\rremote: Counting objects:  20% (34/166)\u001b[K\rremote: Counting objects:  21% (35/166)\u001b[K\rremote: Counting objects:  22% (37/166)\u001b[K\rremote: Counting objects:  23% (39/166)\u001b[K\rremote: Counting objects:  24% (40/166)\u001b[K\rremote: Counting objects:  25% (42/166)\u001b[K\rremote: Counting objects:  26% (44/166)\u001b[K\rremote: Counting objects:  27% (45/166)\u001b[K\rremote: Counting objects:  28% (47/166)\u001b[K\rremote: Counting objects:  29% (49/166)\u001b[K\rremote: Counting objects:  30% (50/166)\u001b[K\rremote: Counting objects:  31% (52/166)\u001b[K\rremote: Counting objects:  32% (54/166)\u001b[K\rremote: Counting objects:  33% (55/166)\u001b[K\rremote: Counting objects:  34% (57/166)\u001b[K\rremote: Counting objects:  35% (59/166)\u001b[K\rremote: Counting objects:  36% (60/166)\u001b[K\rremote: Counting objects:  37% (62/166)\u001b[K\rremote: Counting objects:  38% (64/166)\u001b[K\rremote: Counting objects:  39% (65/166)\u001b[K\rremote: Counting objects:  40% (67/166)\u001b[K\rremote: Counting objects:  41% (69/166)\u001b[K\rremote: Counting objects:  42% (70/166)\u001b[K\rremote: Counting objects:  43% (72/166)\u001b[K\rremote: Counting objects:  44% (74/166)\u001b[K\rremote: Counting objects:  45% (75/166)\u001b[K\rremote: Counting objects:  46% (77/166)\u001b[K\rremote: Counting objects:  47% (79/166)\u001b[K\rremote: Counting objects:  48% (80/166)\u001b[K\rremote: Counting objects:  49% (82/166)\u001b[K\rremote: Counting objects:  50% (83/166)\u001b[K\rremote: Counting objects:  51% (85/166)\u001b[K\rremote: Counting objects:  52% (87/166)\u001b[K\rremote: Counting objects:  53% (88/166)\u001b[K\rremote: Counting objects:  54% (90/166)\u001b[K\rremote: Counting objects:  55% (92/166)\u001b[K\rremote: Counting objects:  56% (93/166)\u001b[K\rremote: Counting objects:  57% (95/166)\u001b[K\rremote: Counting objects:  58% (97/166)\u001b[K\rremote: Counting objects:  59% (98/166)\u001b[K\rremote: Counting objects:  60% (100/166)\u001b[K\rremote: Counting objects:  61% (102/166)\u001b[K\rremote: Counting objects:  62% (103/166)\u001b[K\rremote: Counting objects:  63% (105/166)\u001b[K\rremote: Counting objects:  64% (107/166)\u001b[K\rremote: Counting objects:  65% (108/166)\u001b[K\rremote: Counting objects:  66% (110/166)\u001b[K\rremote: Counting objects:  67% (112/166)\u001b[K\rremote: Counting objects:  68% (113/166)\u001b[K\rremote: Counting objects:  69% (115/166)\u001b[K\rremote: Counting objects:  70% (117/166)\u001b[K\rremote: Counting objects:  71% (118/166)\u001b[K\rremote: Counting objects:  72% (120/166)\u001b[K\rremote: Counting objects:  73% (122/166)\u001b[K\rremote: Counting objects:  74% (123/166)\u001b[K\rremote: Counting objects:  75% (125/166)\u001b[K\rremote: Counting objects:  76% (127/166)\u001b[K\rremote: Counting objects:  77% (128/166)\u001b[K\rremote: Counting objects:  78% (130/166)\u001b[K\rremote: Counting objects:  79% (132/166)\u001b[K\rremote: Counting objects:  80% (133/166)\u001b[K\rremote: Counting objects:  81% (135/166)\u001b[K\rremote: Counting objects:  82% (137/166)\u001b[K\rremote: Counting objects:  83% (138/166)\u001b[K\rremote: Counting objects:  84% (140/166)\u001b[K\rremote: Counting objects:  85% (142/166)\u001b[K\rremote: Counting objects:  86% (143/166)\u001b[K\rremote: Counting objects:  87% (145/166)\u001b[K\rremote: Counting objects:  88% (147/166)\u001b[K\rremote: Counting objects:  89% (148/166)\u001b[K\rremote: Counting objects:  90% (150/166)\u001b[K\rremote: Counting objects:  91% (152/166)\u001b[K\rremote: Counting objects:  92% (153/166)\u001b[K\rremote: Counting objects:  93% (155/166)\u001b[K\rremote: Counting objects:  94% (157/166)\u001b[K\rremote: Counting objects:  95% (158/166)\u001b[K\rremote: Counting objects:  96% (160/166)\u001b[K\rremote: Counting objects:  97% (162/166)\u001b[K\rremote: Counting objects:  98% (163/166)\u001b[K\rremote: Counting objects:  99% (165/166)\u001b[K\rremote: Counting objects: 100% (166/166)\u001b[K\rremote: Counting objects: 100% (166/166), done.\u001b[K\n",
            "remote: Compressing objects: 100% (123/123), done.\u001b[K\n",
            "remote: Total 166 (delta 78), reused 119 (delta 39), pack-reused 0\u001b[K\n",
            "Receiving objects: 100% (166/166), 38.74 MiB | 26.77 MiB/s, done.\n",
            "Resolving deltas: 100% (78/78), done.\n",
            "/content/cloned-repo/cloned-repo\n",
            "Mounted at /gdrive\n"
          ],
          "name": "stdout"
        }
      ]
    },
    {
      "cell_type": "markdown",
      "metadata": {
        "id": "UQ4mkmrCNN-X",
        "colab_type": "text"
      },
      "source": [
        "## Hyperparameters, model, dataset and dataloader"
      ]
    },
    {
      "cell_type": "code",
      "metadata": {
        "id": "504cgdHlyEez",
        "colab_type": "code",
        "colab": {}
      },
      "source": [
        "#hyperparameters:\n",
        "num_epochs = 1000\n",
        "batch_size = 16\n",
        "learning_rate = 0.0001\n",
        "\n",
        "#instantiating the model:\n",
        "model = REDCNN()\n",
        "#model.double()\n",
        "\n",
        "#loss function\n",
        "criterion = nn.MSELoss()\n",
        "\n",
        "#optimizer algorithm\n",
        "optimizer = torch.optim.Adam(model.parameters(), lr = learning_rate)\n",
        "\n",
        "#if gpu available\n",
        "if torch.cuda.is_available():\n",
        "    model.cuda()\n",
        "    criterion.cuda()\n",
        "    \n",
        "#dataset\n",
        "if using_colab:\n",
        "  csv_file = r'/gdrive/My Drive/patches/1.csv'  \n",
        "else:\n",
        "  #should be XCT instead of 500FBP!!\n",
        "  csv_file = r'C:\\Users\\Juan Pisula\\Desktop\\ct_images\\patches\\100_FBPPhil_500FBP.csv'\n",
        "\n",
        "#dataset, dataloader  \n",
        "dataset = utils.CTVolumesDataset(csv_file)\n",
        "dataloader = torch.utils.data.DataLoader(dataset=dataset, batch_size=batch_size, shuffle = False)"
      ],
      "execution_count": 0,
      "outputs": []
    },
    {
      "cell_type": "markdown",
      "metadata": {
        "id": "KRHBRCjZOSpP",
        "colab_type": "text"
      },
      "source": [
        "## Inspecting data"
      ]
    },
    {
      "cell_type": "code",
      "metadata": {
        "id": "dRynJNjAyEfG",
        "colab_type": "code",
        "colab": {}
      },
      "source": [
        "\"\"\"\n",
        "#inspect training examples\n",
        "\n",
        "batches = list(dataloader)\n",
        "\n",
        "print(len(batches)) #how many batches\n",
        "batch = batches[20]\n",
        "print( len( batch ) ) #length of the batches (2 = lo res, hi res)\n",
        "print( batch[0].size() ) #size of the lo res volumes of the batch: batch_size volumes, size of volume\n",
        "plt.imshow(batch[1][0][10][:][:], cmap = 'gray' )\n",
        "\n",
        "#enu = enumerate(dataloader)\n",
        "#len(dataloader) # = amount of patches / batch size\n",
        "\n",
        "(lo_res, hi_res) = batch\n",
        "print(lo_res.size())\n",
        "lo_res = lo_res.unsqueeze(1)\n",
        "print(lo_res.size())\n",
        "\"\"\""
      ],
      "execution_count": 0,
      "outputs": []
    },
    {
      "cell_type": "markdown",
      "metadata": {
        "id": "SdL61bkjOdoM",
        "colab_type": "text"
      },
      "source": [
        "## Training the model!"
      ]
    },
    {
      "cell_type": "code",
      "metadata": {
        "id": "LGdq4B34I0xs",
        "colab_type": "code",
        "colab": {}
      },
      "source": [
        "def save_checkpoint(state, filename='checkpoint.pth.tar'):\n",
        "    torch.save(state, filename)"
      ],
      "execution_count": 0,
      "outputs": []
    },
    {
      "cell_type": "code",
      "metadata": {
        "id": "gKd4KwYOyEfN",
        "colab_type": "code",
        "colab": {}
      },
      "source": [
        "#directory to save the model\n",
        "if using_colab:\n",
        "  models_dir = r'/gdrive/My Drive/models' \n",
        "else:\n",
        "  models_dir = r'C:\\Users\\Juan Pisula\\Desktop\\ct_images'  \n",
        "\n",
        "#file to record metrics  \n",
        "metrics_file_name = 'metrics.csv' \n",
        "metrics_file_dir = os.path.join(models_dir,file_name)\n",
        "\n",
        "#training\n",
        "total_step = len(dataloader)\n",
        "model.train()\n",
        "for epoch in range(num_epochs):\n",
        "  \n",
        "    for i, (lo_res, hi_res) in enumerate(dataloader):\n",
        "        #add an extra dimension:\n",
        "        lo_res = utils.var_or_cuda( lo_res.unsqueeze(1) )\n",
        "        hi_res = utils.var_or_cuda(hi_res)\n",
        "        if lo_res.size()[0] != batch_size:\n",
        "            print(\"batch_size != {} drop last incompatible batch\".format( batch_size ))\n",
        "            continue\n",
        "            \n",
        "        #forward pass \n",
        "        outputs = model(lo_res)\n",
        "        loss = criterion(outputs, hi_res.unsqueeze(1))\n",
        "        #backward & optimize\n",
        "        optimizer.zero_grad()\n",
        "        loss.backward()\n",
        "        optimizer.step()\n",
        "        \n",
        "        \n",
        "        if (i+1) % 1 == 0:\n",
        "            print('Epoch [{}/{}], Step [{}/{}], Loss: {:.4f}' \n",
        "                .format(epoch+1, num_epochs, i+1, total_step, loss.item()))\n",
        "            \n",
        "    #save model after epoch   \n",
        "    checkpoint_file_dir = os.path.join(models_dir, 'REDCNN_checkpoint_epoch_' + str(epoch) + '.pth.tar' ) )\n",
        "    \n",
        "    save_checkpoint({\n",
        "        'epoch': epoch + 1,\n",
        "        'arch': args.arch,\n",
        "        'state_dict': model.state_dict(),\n",
        "        'optimizer' : optimizer.state_dict(),\n",
        "    }, checkpoint_file_dir)\n",
        "\n",
        "    csv_line = str(loss.item()) + ',' + str(epoch) + '\\n'\n",
        "    with open(metrics_file_dir , 'a+') as file:\n",
        "        file.write(csv_line)"
      ],
      "execution_count": 0,
      "outputs": []
    }
  ]
}