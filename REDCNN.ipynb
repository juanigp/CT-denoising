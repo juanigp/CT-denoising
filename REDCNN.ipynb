{
 "cells": [
  {
   "cell_type": "markdown",
   "metadata": {},
   "source": [
    "### Comments:\n",
    "- Work in progress\n",
    "- To use cuda I need to call .cuda() on every tensor I instantiate during my train() procedure \n",
    "- Separate data for training and testing\n",
    "- In this demo the dataloader uses batch_size = 1 given that the .csv with the data has a single 64x64x64 volume\n",
    "\n",
    "### 08/2019\n",
    "- why I cant import Variable when its called within a function????"
   ]
  },
  {
   "cell_type": "code",
   "execution_count": 1,
   "metadata": {},
   "outputs": [],
   "source": [
    "from models.REDCNN import REDCNN\n",
    "from utils import utils\n",
    "\n",
    "import torch\n",
    "import torch.nn as nn\n",
    "from torch.autograd import Variable"
   ]
  },
  {
   "cell_type": "code",
   "execution_count": 1,
   "metadata": {},
   "outputs": [],
   "source": [
    "#wanna know how long does it take to train the net\n",
    "\n",
    "from datetime import datetime\n",
    "from dateutil.relativedelta import relativedelta\n",
    "\n",
    "def time_diff(t_a, t_b):\n",
    "    t_diff = relativedelta(t_b, t_a) \n",
    "    return '{h}h {m}m {s}s'.format(h=t_diff.hours, m=t_diff.minutes, s=t_diff.seconds)"
   ]
  },
  {
   "cell_type": "code",
   "execution_count": null,
   "metadata": {},
   "outputs": [],
   "source": [
    "#hyperparameters:\n",
    "num_epochs = 1\n",
    "batch_size = 1\n",
    "learning_rate = 0.001"
   ]
  },
  {
   "cell_type": "code",
   "execution_count": 6,
   "metadata": {},
   "outputs": [],
   "source": [
    "###########################################\n",
    "\n",
    "#helper function that should be in utils\n",
    "def var_or_cuda(x):\n",
    "    if torch.cuda.is_available():\n",
    "        x = x.cuda()\n",
    "    return Variable(x) \n",
    "\n",
    "###########################################"
   ]
  },
  {
   "cell_type": "code",
   "execution_count": 4,
   "metadata": {},
   "outputs": [],
   "source": [
    "#instantiating the model:\n",
    "\n",
    "model = REDCNN()\n",
    "model.double()\n",
    "\n",
    "#loss function\n",
    "criterion = nn.BCEWithLogitsLoss()\n",
    "\n",
    "#optimizer algorithm\n",
    "optimizer = torch.optim.Adam(model.parameters(), lr = learning_rate)\n",
    "\n",
    "#dataset, dataloader\n",
    "csv_file = r'C:\\Users\\Juanig\\Desktop\\Desktop_\\ct images\\para probar el procesamiento de los volumenes\\100_FBPPhil_500FBP.csv'\n",
    "dataset = utils.CTVolumesDataset(csv_file)\n",
    "dataloader = torch.utils.data.DataLoader(dataset=dataset, batch_size=batch_size, shuffle=True)\n",
    "\n",
    "#if gpu available\n",
    "if torch.cuda.is_available():\n",
    "    model.cuda()\n",
    "    criterion.cuda()"
   ]
  },
  {
   "cell_type": "code",
   "execution_count": 29,
   "metadata": {},
   "outputs": [
    {
     "data": {
      "text/plain": [
       "1"
      ]
     },
     "execution_count": 29,
     "metadata": {},
     "output_type": "execute_result"
    }
   ],
   "source": [
    "enu = enumerate(dataloader)\n",
    "len(dataloader)"
   ]
  },
  {
   "cell_type": "code",
   "execution_count": 7,
   "metadata": {},
   "outputs": [
    {
     "name": "stdout",
     "output_type": "stream",
     "text": [
      "torch.Size([1, 1, 64, 64, 64])\n",
      "Epoch [1/1], Step [1/1], Loss: 0.7738\n"
     ]
    }
   ],
   "source": [
    "def var_or_cuda(x):\n",
    "    if torch.cuda.is_available():\n",
    "        x = x.cuda()\n",
    "    return Variable(x) \n",
    "\n",
    "#set the model to train\n",
    "model.train()\n",
    "total_step = len(dataloader)\n",
    "\n",
    "#train\n",
    "\n",
    "start = datetime.now()\n",
    "\n",
    "for epoch in range(num_epochs):\n",
    "    for i, (lo_res, hi_res) in enumerate(dataloader):\n",
    "        \n",
    "        #add an extra dimension:\n",
    "        #find out why the following line does not work\n",
    "        #lo_res = utils.var_or_cuda( lo_res.unsqueeze(1) )\n",
    "        lo_res = Variable(lo_res.unsqueeze(1))\n",
    "        #print(lo_res.size())\n",
    "        if lo_res.size()[0] != batch_size:\n",
    "            print(\"batch_size != {} drop last incompatible batch\".format( batch_size ))\n",
    "            continue\n",
    "        \n",
    "        \n",
    "        #forward pass       \n",
    "        outputs = model(lo_res)\n",
    "        loss = criterion(outputs, hi_res.unsqueeze(1))\n",
    "        \n",
    "        #backward & optimize\n",
    "        optimizer.zero_grad()\n",
    "        loss.backward()\n",
    "        optimizer.step()\n",
    "         \n",
    "        if (i+1) % 1 == 0:\n",
    "            print('Epoch [{}/{}], Step [{}/{}], Loss: {:.4f}' \n",
    "                .format(epoch+1, num_epochs, i+1, total_step, loss.item()))\n",
    "               \n",
    "stop = datetime.now()\n",
    "dur = time_diff(start, stop)\n",
    "\n",
    "        \n",
    "torch.save(model.state_dict(), '3d_autoencoder.pkl')  "
   ]
  }
 ],
 "metadata": {
  "kernelspec": {
   "display_name": "Python 3",
   "language": "python",
   "name": "python3"
  },
  "language_info": {
   "codemirror_mode": {
    "name": "ipython",
    "version": 3
   },
   "file_extension": ".py",
   "mimetype": "text/x-python",
   "name": "python",
   "nbconvert_exporter": "python",
   "pygments_lexer": "ipython3",
   "version": "3.6.6"
  }
 },
 "nbformat": 4,
 "nbformat_minor": 2
}
