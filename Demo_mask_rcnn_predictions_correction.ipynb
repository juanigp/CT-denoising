{
  "nbformat": 4,
  "nbformat_minor": 0,
  "metadata": {
    "colab": {
      "name": "Untitled9.ipynb",
      "provenance": [],
      "collapsed_sections": [],
      "toc_visible": true,
      "authorship_tag": "ABX9TyN0r3LCHtPGA8E/bwGJvK7r",
      "include_colab_link": true
    },
    "kernelspec": {
      "name": "python3",
      "display_name": "Python 3"
    },
    "accelerator": "GPU"
  },
  "cells": [
    {
      "cell_type": "markdown",
      "metadata": {
        "id": "view-in-github",
        "colab_type": "text"
      },
      "source": [
        "<a href=\"https://colab.research.google.com/github/juanigp/CT-denoising/blob/master/Demo_mask_rcnn_predictions_correction.ipynb\" target=\"_parent\"><img src=\"https://colab.research.google.com/assets/colab-badge.svg\" alt=\"Open In Colab\"/></a>"
      ]
    },
    {
      "cell_type": "markdown",
      "metadata": {
        "id": "CWyd83_PedgD",
        "colab_type": "text"
      },
      "source": [
        "#MaskRCNN + template matching\n",
        "## Descarga de dependencias, imports, clonar repo, abrir gdrive\n"
      ]
    },
    {
      "cell_type": "code",
      "metadata": {
        "id": "H7wn7n5chtKG",
        "colab_type": "code",
        "colab": {}
      },
      "source": [
        "# install dependencies: (use cu100 because colab is on CUDA 10.0)\n",
        "!pip install -U torch==1.4+cu100 torchvision==0.5+cu100 -f https://download.pytorch.org/whl/torch_stable.html \n",
        "!pip install cython pyyaml==5.1\n",
        "!pip install -U 'git+https://github.com/cocodataset/cocoapi.git#subdirectory=PythonAPI'\n",
        "!pip install detectron2 -f https://dl.fbaipublicfiles.com/detectron2/wheels/cu100/index.html\n"
      ],
      "execution_count": 0,
      "outputs": []
    },
    {
      "cell_type": "code",
      "metadata": {
        "id": "A7kTAT_ZeP3_",
        "colab_type": "code",
        "colab": {}
      },
      "source": [
        "#imports\n",
        "import os\n",
        "import numpy as np\n",
        "import cv2\n",
        "from scipy import optimize,interpolate\n",
        "import matplotlib.pyplot as plt\n",
        "from google.colab.patches import cv2_imshow\n",
        "from google.colab import drive\n",
        "import torch\n",
        "from utils import  make_maskrcnn_predictor, predict_image, visualize_predictions, correct_labels\n",
        "\n",
        "from detectron2 import model_zoo\n",
        "from detectron2.engine import DefaultPredictor\n",
        "from detectron2.config import get_cfg\n",
        "from detectron2.utils.visualizer import Visualizer\n",
        "from detectron2.data import MetadataCatalog"
      ],
      "execution_count": 0,
      "outputs": []
    },
    {
      "cell_type": "code",
      "metadata": {
        "id": "LqTDthmT21cC",
        "colab_type": "code",
        "outputId": "72bafbc7-36c1-40dd-fdda-bc1f15622239",
        "colab": {
          "base_uri": "https://localhost:8080/",
          "height": 183
        }
      },
      "source": [
        "#cloning repo\n",
        "repo_url = 'https://github.com/SnoopiACK/DientesMask'\n",
        "!git clone {repo_url}\n",
        "repo_dir_path = os.path.basename(repo_url)\n",
        "%cd {repo_dir_path}"
      ],
      "execution_count": 0,
      "outputs": [
        {
          "output_type": "stream",
          "text": [
            "Cloning into 'DientesMask'...\n",
            "remote: Enumerating objects: 166, done.\u001b[K\n",
            "remote: Counting objects: 100% (166/166), done.\u001b[K\n",
            "remote: Compressing objects: 100% (153/153), done.\u001b[K\n",
            "remote: Total 723 (delta 51), reused 91 (delta 13), pack-reused 557\u001b[K\n",
            "Receiving objects: 100% (723/723), 311.12 MiB | 36.52 MiB/s, done.\n",
            "Resolving deltas: 100% (239/239), done.\n",
            "Checking out files: 100% (456/456), done.\n",
            "/content/DientesMask/DientesMask\n"
          ],
          "name": "stdout"
        }
      ]
    },
    {
      "cell_type": "code",
      "metadata": {
        "id": "MoAIvVBie4a9",
        "colab_type": "code",
        "outputId": "dbb8a0a8-c5a5-4858-f262-00550400b141",
        "colab": {
          "base_uri": "https://localhost:8080/",
          "height": 129
        }
      },
      "source": [
        "#mount drive\n",
        "drive.mount('/gdrive', force_remount = True)"
      ],
      "execution_count": 0,
      "outputs": [
        {
          "output_type": "stream",
          "text": [
            "Go to this URL in a browser: https://accounts.google.com/o/oauth2/auth?client_id=947318989803-6bn6qk8qdgf4n4g3pfee6491hc0brc4i.apps.googleusercontent.com&redirect_uri=urn%3aietf%3awg%3aoauth%3a2.0%3aoob&response_type=code&scope=email%20https%3a%2f%2fwww.googleapis.com%2fauth%2fdocs.test%20https%3a%2f%2fwww.googleapis.com%2fauth%2fdrive%20https%3a%2f%2fwww.googleapis.com%2fauth%2fdrive.photos.readonly%20https%3a%2f%2fwww.googleapis.com%2fauth%2fpeopleapi.readonly\n",
            "\n",
            "Enter your authorization code:\n",
            "··········\n",
            "Mounted at /gdrive\n"
          ],
          "name": "stdout"
        }
      ]
    },
    {
      "cell_type": "code",
      "metadata": {
        "id": "7eSn90j2TG6C",
        "colab_type": "code",
        "colab": {}
      },
      "source": [
        "#set MetadataCatalog (used in visualization)\n",
        "teeth_classes=[\"M\",\"P\",\"C\",\"I\"]\n",
        "MetadataCatalog.get(\"teeth_types\").set(thing_classes=teeth_classes)\n",
        "dataset_metadata_1 = MetadataCatalog.get(\"teeth_types\")\n",
        "\n",
        "teeth_numbers = [\"18\",\"17\",\"16\",\"15\",\"14\",\"13\",\"12\",\"11\",\"21\",\"22\",\"23\",\"24\",\"25\",\"26\",\"27\",\"28\",\\\n",
        "                 \"48\",\"47\",\"46\",\"45\",\"44\",\"43\",\"42\",\"41\",\"31\",\"32\",\"33\",\"34\",\"35\",\"36\",\"37\",\"38\"]\n",
        "MetadataCatalog.get(\"teeth_numbers\").set(thing_classes=teeth_numbers)\n",
        "dataset_metadata_2 = MetadataCatalog.get(\"teeth_numbers\")"
      ],
      "execution_count": 0,
      "outputs": []
    },
    {
      "cell_type": "markdown",
      "metadata": {
        "id": "YSOzRe2aDo8F",
        "colab_type": "text"
      },
      "source": [
        "## Cargar modelo y predecir clases"
      ]
    },
    {
      "cell_type": "code",
      "metadata": {
        "id": "MPgerpe6jIM_",
        "colab_type": "code",
        "colab": {}
      },
      "source": [
        "img_path = \"data/images/neyra_karen_02012019_112241.jpg\"\n",
        "model_path = r\"/gdrive/My Drive/models/mask_rcnn/model_final.pth\"\n",
        "num_classes = 4\n",
        "th = 0.5\n",
        "\n",
        "#cargar modelo\n",
        "predictor = make_maskrcnn_predictor(model_path, num_classes, th)\n",
        "#predecir imagen\n",
        "predictions = predict_image(img_path)\n",
        "#viz\n",
        "visualize_img_and_predictions(img, predictions, dataset_metadata_1)"
      ],
      "execution_count": 0,
      "outputs": []
    },
    {
      "cell_type": "markdown",
      "metadata": {
        "id": "uYI2S1BRDvkX",
        "colab_type": "text"
      },
      "source": [
        "## Corregir el etiquetado"
      ]
    },
    {
      "cell_type": "code",
      "metadata": {
        "id": "OOFoLvoD59bC",
        "colab_type": "code",
        "colab": {}
      },
      "source": [
        "predictions = correct_labels(predictions)\n",
        "visualize_img_and_predictions(img, predictions, dataset_metadata_2)"
      ],
      "execution_count": 0,
      "outputs": []
    }
  ]
}