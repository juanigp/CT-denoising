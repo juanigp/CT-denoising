{
 "cells": [
  {
   "cell_type": "markdown",
   "metadata": {
    "collapsed": true
   },
   "source": [
    "## Notebook to organize the data from the CTs\n",
    "\n",
    "## Note: \n",
    "- this would process every volume in the dataset (which could take a long time)\n",
    "- with all the file and dirs handling there should be checks if the folders or files are already created or bla bla bla"
   ]
  },
  {
   "cell_type": "code",
   "execution_count": 1,
   "metadata": {},
   "outputs": [],
   "source": [
    "import torch\n",
    "import torch.utils.data\n",
    "from matplotlib import pyplot as plt\n",
    "import SimpleITK as sitk\n",
    "import os\n",
    "import ReadWriteXML as rw\n",
    "import numpy as np\n",
    "import pandas as pd"
   ]
  },
  {
   "cell_type": "code",
   "execution_count": 2,
   "metadata": {},
   "outputs": [],
   "source": [
    "#directory with all the volumes\n",
    "#volumes_dir = r'C:\\Users\\Juanig\\Desktop\\Desktop_\\ct images'\n",
    "volumes_dir = r'C:\\Users\\Juan Pisula\\Desktop\\ct_images\\patches'\n",
    "#directory with the ground truth files\n",
    "gt_dir = os.path.join(volumes_dir, 'Ground Truth')\n",
    "#directory with the lo res files\n",
    "lr_dir = os.path.join(volumes_dir, 'Low resolution')"
   ]
  },
  {
   "cell_type": "markdown",
   "metadata": {},
   "source": [
    "### Lets extract smaller patches out of every volume. "
   ]
  },
  {
   "cell_type": "code",
   "execution_count": 3,
   "metadata": {},
   "outputs": [],
   "source": [
    "#extract patches of v*v*v with a stride of s and return a list of numpy arrays with them\n",
    "def extract_patches(nparray, v = 55, s = 10):\n",
    "    patches_list = []\n",
    "    for i in range(v - 1, nparray.shape[0] + s, s):\n",
    "        for j in range (v - 1, nparray.shape[1] + s, s):\n",
    "            for k in range(v - 1, nparray.shape[2] + s, s):\n",
    "\n",
    "                i_max = min(i, nparray.shape[0] - 1)\n",
    "                j_max = min(j, nparray.shape[1] - 1)\n",
    "                k_max = min(k, nparray.shape[2] - 1)\n",
    "                i_min, j_min, k_min = i_max -(v-1), j_max -(v-1), k_max -(v-1)\n",
    "\n",
    "                patch = np.zeros([v, v, v])\n",
    "                patch[0:v, 0:v, 0:v] = nparray[i_min:(i_max+1), j_min:(j_max+1), k_min:(k_max+1)]\n",
    "                patches_list.append(patch)     \n",
    "    \n",
    "    return patches_list\n",
    "\n",
    "#open a .xml volume and extract the patches   \n",
    "def open_volume_and_extract (file_path):\n",
    "    itk_volume = rw.OpenXML(file_path, kind = 'Slices')\n",
    "    np_volume = sitk.GetArrayFromImage(itk_volume)\n",
    "    patches = extract_patches(np_volume)\n",
    "    return patches\n",
    "\n",
    "#True if the patch does not contain any NaN value\n",
    "def is_valid_patch(patch):\n",
    "    result = not (np.any(np.isnan(patch)))\n",
    "    return result\n",
    "\n",
    "#Save a list of patches if they are valid\n",
    "def save_patches (patches, new_dir):       \n",
    "    i = 0\n",
    "    for patch in patches:\n",
    "        if is_valid_patch(patch):\n",
    "            #remember, patch is a numpy array!\n",
    "            #and their filename is an integer:\n",
    "            #the corresponding hi res patch of a lo res pair would have the same file name! (and stored in a different directory)\n",
    "            torch.save(patch, os.path.join(new_dir, str(i) + '.pt'))\n",
    "        i += 1    \n",
    "    "
   ]
  },
  {
   "cell_type": "markdown",
   "metadata": {},
   "source": [
    "\n",
    "#### Some low res volume patches have NaN values on it corresponding to a border, this wouldnt make representative data\n",
    "\n"
   ]
  },
  {
   "cell_type": "code",
   "execution_count": 4,
   "metadata": {},
   "outputs": [
    {
     "data": {
      "image/png": "[encoded data removed]",
      "text/plain": [
       "<Figure size 432x288 with 1 Axes>"
      ]
     },
     "metadata": {
      "needs_background": "light"
     },
     "output_type": "display_data"
    }
   ],
   "source": [
    "test = rw.OpenXML(os.path.join(lr_dir, '5a_100_FBPPhil_Scan1Slices.xml'), kind = 'Slices' )\n",
    "test_np = sitk.GetArrayFromImage(test)\n",
    "test_patches = extract_patches(test_np) \n",
    "#test_patches = torch.FloatTensor(test_patches)\n",
    "plt.imshow(test_patches[0][0][:][:])\n",
    "plt.show()"
   ]
  },
  {
   "cell_type": "markdown",
   "metadata": {},
   "source": [
    "# Processing the _ground truth_ volumes "
   ]
  },
  {
   "cell_type": "markdown",
   "metadata": {},
   "source": [
    "#### These are the files to process"
   ]
  },
  {
   "cell_type": "code",
   "execution_count": 4,
   "metadata": {
    "scrolled": true
   },
   "outputs": [
    {
     "data": {
      "text/plain": [
       "['5a_500FBPMedianSlices.xml',\n",
       " '5a_XCTSlices.xml',\n",
       " '5b_500FBPMedianSlices.xml',\n",
       " '5b_XCTSlices.xml',\n",
       " '6c_500FBPMedianSlices.xml',\n",
       " '6c_XCTSlices.xml',\n",
       " '8b_500FBPMedianSlices.xml',\n",
       " '8b_XCTSlices.xml',\n",
       " 'V8_500FBPMedianSlices.xml',\n",
       " 'V8_XCTSlices.xml']"
      ]
     },
     "execution_count": 4,
     "metadata": {},
     "output_type": "execute_result"
    }
   ],
   "source": [
    "#every file in the directory gt_dir\n",
    "gt_files = [f for f in os.listdir(gt_dir) if os.path.isfile(os.path.join(gt_dir, f))]\n",
    "gt_files = list(filter(lambda x: 'Slices.xml' in x, gt_files))\n",
    "gt_files"
   ]
  },
  {
   "cell_type": "code",
   "execution_count": 5,
   "metadata": {},
   "outputs": [],
   "source": [
    "gt_patches_dir = os.path.join(volumes_dir, 'Ground Truth patches')\n",
    "\n",
    "if not os.path.exists(gt_patches_dir):\n",
    "    os.makedirs(gt_patches_dir)\n",
    "\n",
    "for f in gt_files:                    \n",
    "    new_dir = os.path.join(gt_patches_dir, f.replace('.xml', ''))\n",
    "    if not os.path.exists(new_dir):\n",
    "        os.makedirs(new_dir)\n",
    "    patches = open_volume_and_extract(os.path.join(gt_dir, f))\n",
    "    save_patches(patches, new_dir)"
   ]
  },
  {
   "cell_type": "markdown",
   "metadata": {},
   "source": [
    "# Processing all the _low resolution_ volumes\n"
   ]
  },
  {
   "cell_type": "code",
   "execution_count": 4,
   "metadata": {},
   "outputs": [
    {
     "data": {
      "text/plain": [
       "['5a_100_FBPPhil_Scan1Slices.xml',\n",
       " '5a_100_FBPPhil_Scan2Slices.xml',\n",
       " '5a_100_FBPPhil_Scan3Slices.xml',\n",
       " '5b_100_FBPPhil_Scan1Slices.xml',\n",
       " '5b_100_FBPPhil_Scan2Slices.xml',\n",
       " '5b_100_FBPPhil_Scan3Slices.xml',\n",
       " '6c_100_FBPPhil_Scan1Slices.xml',\n",
       " '6c_100_FBPPhil_Scan2Slices.xml',\n",
       " '6c_100_FBPPhil_Scan3Slices.xml',\n",
       " '8b_100_FBPPhil_Scan1Slices.xml',\n",
       " '8b_100_FBPPhil_Scan2Slices.xml',\n",
       " '8b_100_FBPPhil_Scan3Slices.xml',\n",
       " 'V8_100_FBPPhil_Scan1Slices.xml',\n",
       " 'V8_100_FBPPhil_Scan2Slices.xml',\n",
       " 'V8_100_FBPPhil_Scan3Slices.xml']"
      ]
     },
     "execution_count": 4,
     "metadata": {},
     "output_type": "execute_result"
    }
   ],
   "source": [
    "lo_res_config = '100_FBPPhil'\n",
    "hi_res_config = '500FBP' #'XCT'\n",
    "\n",
    "lr_files = [f for f in os.listdir(lr_dir) if os.path.isfile(os.path.join(lr_dir,f))]\n",
    "lr_files = list(filter(lambda x: lo_res_config in x, lr_files)) \n",
    "lr_files"
   ]
  },
  {
   "cell_type": "code",
   "execution_count": 5,
   "metadata": {},
   "outputs": [],
   "source": [
    "lr_patches_dir = os.path.join(volumes_dir, 'Low resolution patches')\n",
    "\n",
    "if not os.path.exists(lr_patches_dir) :\n",
    "    os.makedirs(lr_patches_dir)\n",
    "\n",
    "for f in lr_files:\n",
    "    new_dir = os.path.join(lr_patches_dir, f.replace('.xml', ''))\n",
    "    if not os.path.exists(new_dir):\n",
    "        os.makedirs(new_dir)       \n",
    "    patches = open_volume_and_extract(os.path.join(lr_dir, f))\n",
    "    save_patches(patches, new_dir)"
   ]
  },
  {
   "cell_type": "markdown",
   "metadata": {},
   "source": [
    "# Making a .csv with the directories of the low res patches and their corresponding hi res patches"
   ]
  },
  {
   "cell_type": "code",
   "execution_count": 6,
   "metadata": {},
   "outputs": [],
   "source": [
    "#make a pandas dataframe with all the files in the input directories\n",
    "def patches_to_dataframe(lo_res_dir, high_res_dir):\n",
    "    #list with every file (patch) in the lo_res_dir\n",
    "    lo_res_files = os.listdir(lo_res_dir)\n",
    "    pairs = []\n",
    "    #for every patch in the folder lo_res_dir\n",
    "    for file in lo_res_files:\n",
    "        #directory of the lo res patch\n",
    "        lo_res_file_dir = os.path.join(lo_res_dir, file)\n",
    "        #directory where the ground truth patch should be\n",
    "        hi_res_file_dir = os.path.join(high_res_dir, file)\n",
    "        #if the file exists, append to the list\n",
    "        if os.path.exists ( hi_res_file_dir ):\n",
    "            pairs.append( (lo_res_file_dir, hi_res_file_dir) )\n",
    "    #make the dataframe\n",
    "    df_out = pd.concat( [ pd.DataFrame( [ [ pair[0], pair[1] ] ], columns=['Lo Res Patch', 'Hi Res Patch']) for pair in pairs] ,ignore_index=True)            \n",
    "    return df_out\n",
    "\n",
    "#recursive function to get a list of dataframes \n",
    "#the input arg is a list of pairs (tuples) of the lo res patches directory and their corresponding hi res patches directory =\n",
    "def _files_to_csv(dirs_list):\n",
    "    if len(dirs_list) == 1:\n",
    "        pair = dirs_list.pop(0)\n",
    "        return [ patches_to_dataframe( pair[0], pair[1]  ) ]\n",
    "    else:\n",
    "        pair = dirs_list.pop(0)\n",
    "        recursive_case = _files_to_csv(dirs_list)\n",
    "        recursive_case.append( patches_to_dataframe( pair[0], pair[1]  ) )\n",
    "        return recursive_case\n",
    "    \n",
    "#make a .csv with the directories of the pairs of patches \n",
    "#lo_res_config can be, for example: '100_FBPPhil'\n",
    "#hi_res config can be, for example: '500FBP'\n",
    "def make_csv_for_dataset(volumes_dir, lo_res_config, hi_res_config ):\n",
    "    lr_dir = os.path.join(volumes_dir, 'Low resolution patches')\n",
    "    gt_dir = os.path.join(volumes_dir, 'Ground Truth patches')   \n",
    "    \n",
    "    #get the directories of the desired patches \n",
    "    lr_dirs = [f for f in os.listdir(lr_dir) if os.path.isdir(os.path.join(lr_dir,f))]\n",
    "    lr_dirs = list(filter(lambda x: lo_res_config in x, lr_dirs)) \n",
    "    \n",
    "    gt_dirs = [f for f in os.listdir(gt_dir) if os.path.isdir(os.path.join(gt_dir,f))]\n",
    "    gt_dirs = list(filter(lambda x: hi_res_config in x, gt_dirs))\n",
    "    \n",
    "    pairs = []\n",
    "\n",
    "    for lr_folder in lr_dirs:\n",
    "        #string with the \"patient\"\n",
    "        patient = lr_folder.split('_',1)[0]\n",
    "        #get the folder of the corresponding ground truth volume for that patient\n",
    "        gt_folder = list(filter(lambda x: patient in x, gt_dirs))[0]\n",
    "        #make the tuple with the pair of dirs\n",
    "        pair = ( os.path.join(lr_dir,lr_folder), os.path.join(gt_dir, gt_folder)   )\n",
    "        #append to list\n",
    "        pairs.append(pair)\n",
    "     \n",
    "    #get the list of dataframes\n",
    "    dataframes = _files_to_csv(pairs)  \n",
    "    #concatenate dataframes\n",
    "    csv = pd.concat(dataframes , ignore_index = True)\n",
    "    #save as .csv\n",
    "    csv_name = lo_res_config + '_' + hi_res_config + '.csv'\n",
    "    csv_dir = os.path.join(volumes_dir, csv_name)\n",
    "    csv.to_csv(csv_dir, index = False)\n",
    "    return csv"
   ]
  },
  {
   "cell_type": "code",
   "execution_count": 7,
   "metadata": {},
   "outputs": [],
   "source": [
    "csv = make_csv_for_dataset(volumes_dir, lo_res_config, hi_res_config)"
   ]
  },
  {
   "cell_type": "code",
   "execution_count": 22,
   "metadata": {},
   "outputs": [
    {
     "name": "stdout",
     "output_type": "stream",
     "text": [
      "C:\\Users\\Juan Pisula\\Desktop\\ct_images\\patches\\Low resolution patches\\8b_100_FBPPhil_Scan1Slices\\1349.pt\n",
      "C:\\Users\\Juan Pisula\\Desktop\\ct_images\\patches\\Ground Truth patches\\8b_500FBPMedianSlices\\1349.pt\n"
     ]
    }
   ],
   "source": [
    "i = 11000\n",
    "print(csv.iloc[i]['Lo Res Patch'])\n",
    "print(csv.iloc[i]['Hi Res Patch'])"
   ]
  },
  {
   "cell_type": "code",
   "execution_count": 23,
   "metadata": {
    "scrolled": true
   },
   "outputs": [
    {
     "data": {
      "text/html": [
       "<div>\n",
       "<style scoped>\n",
       "    .dataframe tbody tr th:only-of-type {\n",
       "        vertical-align: middle;\n",
       "    }\n",
       "\n",
       "    .dataframe tbody tr th {\n",
       "        vertical-align: top;\n",
       "    }\n",
       "\n",
       "    .dataframe thead th {\n",
       "        text-align: right;\n",
       "    }\n",
       "</style>\n",
       "<table border=\"1\" class=\"dataframe\">\n",
       "  <thead>\n",
       "    <tr style=\"text-align: right;\">\n",
       "      <th></th>\n",
       "      <th>Lo Res Patch</th>\n",
       "      <th>Hi Res Patch</th>\n",
       "    </tr>\n",
       "  </thead>\n",
       "  <tbody>\n",
       "    <tr>\n",
       "      <td>0</td>\n",
       "      <td>C:\\Users\\Juan Pisula\\Desktop\\ct_images\\patches...</td>\n",
       "      <td>C:\\Users\\Juan Pisula\\Desktop\\ct_images\\patches...</td>\n",
       "    </tr>\n",
       "    <tr>\n",
       "      <td>1</td>\n",
       "      <td>C:\\Users\\Juan Pisula\\Desktop\\ct_images\\patches...</td>\n",
       "      <td>C:\\Users\\Juan Pisula\\Desktop\\ct_images\\patches...</td>\n",
       "    </tr>\n",
       "    <tr>\n",
       "      <td>2</td>\n",
       "      <td>C:\\Users\\Juan Pisula\\Desktop\\ct_images\\patches...</td>\n",
       "      <td>C:\\Users\\Juan Pisula\\Desktop\\ct_images\\patches...</td>\n",
       "    </tr>\n",
       "    <tr>\n",
       "      <td>3</td>\n",
       "      <td>C:\\Users\\Juan Pisula\\Desktop\\ct_images\\patches...</td>\n",
       "      <td>C:\\Users\\Juan Pisula\\Desktop\\ct_images\\patches...</td>\n",
       "    </tr>\n",
       "    <tr>\n",
       "      <td>4</td>\n",
       "      <td>C:\\Users\\Juan Pisula\\Desktop\\ct_images\\patches...</td>\n",
       "      <td>C:\\Users\\Juan Pisula\\Desktop\\ct_images\\patches...</td>\n",
       "    </tr>\n",
       "    <tr>\n",
       "      <td>...</td>\n",
       "      <td>...</td>\n",
       "      <td>...</td>\n",
       "    </tr>\n",
       "    <tr>\n",
       "      <td>32627</td>\n",
       "      <td>C:\\Users\\Juan Pisula\\Desktop\\ct_images\\patches...</td>\n",
       "      <td>C:\\Users\\Juan Pisula\\Desktop\\ct_images\\patches...</td>\n",
       "    </tr>\n",
       "    <tr>\n",
       "      <td>32628</td>\n",
       "      <td>C:\\Users\\Juan Pisula\\Desktop\\ct_images\\patches...</td>\n",
       "      <td>C:\\Users\\Juan Pisula\\Desktop\\ct_images\\patches...</td>\n",
       "    </tr>\n",
       "    <tr>\n",
       "      <td>32629</td>\n",
       "      <td>C:\\Users\\Juan Pisula\\Desktop\\ct_images\\patches...</td>\n",
       "      <td>C:\\Users\\Juan Pisula\\Desktop\\ct_images\\patches...</td>\n",
       "    </tr>\n",
       "    <tr>\n",
       "      <td>32630</td>\n",
       "      <td>C:\\Users\\Juan Pisula\\Desktop\\ct_images\\patches...</td>\n",
       "      <td>C:\\Users\\Juan Pisula\\Desktop\\ct_images\\patches...</td>\n",
       "    </tr>\n",
       "    <tr>\n",
       "      <td>32631</td>\n",
       "      <td>C:\\Users\\Juan Pisula\\Desktop\\ct_images\\patches...</td>\n",
       "      <td>C:\\Users\\Juan Pisula\\Desktop\\ct_images\\patches...</td>\n",
       "    </tr>\n",
       "  </tbody>\n",
       "</table>\n",
       "<p>32632 rows × 2 columns</p>\n",
       "</div>"
      ],
      "text/plain": [
       "                                            Lo Res Patch  \\\n",
       "0      C:\\Users\\Juan Pisula\\Desktop\\ct_images\\patches...   \n",
       "1      C:\\Users\\Juan Pisula\\Desktop\\ct_images\\patches...   \n",
       "2      C:\\Users\\Juan Pisula\\Desktop\\ct_images\\patches...   \n",
       "3      C:\\Users\\Juan Pisula\\Desktop\\ct_images\\patches...   \n",
       "4      C:\\Users\\Juan Pisula\\Desktop\\ct_images\\patches...   \n",
       "...                                                  ...   \n",
       "32627  C:\\Users\\Juan Pisula\\Desktop\\ct_images\\patches...   \n",
       "32628  C:\\Users\\Juan Pisula\\Desktop\\ct_images\\patches...   \n",
       "32629  C:\\Users\\Juan Pisula\\Desktop\\ct_images\\patches...   \n",
       "32630  C:\\Users\\Juan Pisula\\Desktop\\ct_images\\patches...   \n",
       "32631  C:\\Users\\Juan Pisula\\Desktop\\ct_images\\patches...   \n",
       "\n",
       "                                            Hi Res Patch  \n",
       "0      C:\\Users\\Juan Pisula\\Desktop\\ct_images\\patches...  \n",
       "1      C:\\Users\\Juan Pisula\\Desktop\\ct_images\\patches...  \n",
       "2      C:\\Users\\Juan Pisula\\Desktop\\ct_images\\patches...  \n",
       "3      C:\\Users\\Juan Pisula\\Desktop\\ct_images\\patches...  \n",
       "4      C:\\Users\\Juan Pisula\\Desktop\\ct_images\\patches...  \n",
       "...                                                  ...  \n",
       "32627  C:\\Users\\Juan Pisula\\Desktop\\ct_images\\patches...  \n",
       "32628  C:\\Users\\Juan Pisula\\Desktop\\ct_images\\patches...  \n",
       "32629  C:\\Users\\Juan Pisula\\Desktop\\ct_images\\patches...  \n",
       "32630  C:\\Users\\Juan Pisula\\Desktop\\ct_images\\patches...  \n",
       "32631  C:\\Users\\Juan Pisula\\Desktop\\ct_images\\patches...  \n",
       "\n",
       "[32632 rows x 2 columns]"
      ]
     },
     "execution_count": 23,
     "metadata": {},
     "output_type": "execute_result"
    }
   ],
   "source": [
    "csv\n"
   ]
  }
 ],
 "metadata": {
  "kernelspec": {
   "display_name": "Python 3",
   "language": "python",
   "name": "python3"
  },
  "language_info": {
   "codemirror_mode": {
    "name": "ipython",
    "version": 3
   },
   "file_extension": ".py",
   "mimetype": "text/x-python",
   "name": "python",
   "nbconvert_exporter": "python",
   "pygments_lexer": "ipython3",
   "version": "3.7.4"
  }
 },
 "nbformat": 4,
 "nbformat_minor": 2
}
